{
 "cells": [
  {
   "cell_type": "code",
   "execution_count": 1,
   "metadata": {
    "collapsed": true
   },
   "outputs": [],
   "source": [
    "import pandas as pd\n",
    "import numpy as np"
   ]
  },
  {
   "cell_type": "code",
   "execution_count": 27,
   "metadata": {
    "collapsed": false
   },
   "outputs": [],
   "source": [
    "df = pd.read_json(\"assets/train.json\")"
   ]
  },
  {
   "cell_type": "code",
   "execution_count": 61,
   "metadata": {
    "collapsed": false
   },
   "outputs": [
    {
     "data": {
      "text/plain": [
       "array([u'greek', u'southern_us', u'filipino', u'indian', u'jamaican',\n",
       "       u'spanish', u'italian', u'mexican', u'chinese', u'british', u'thai',\n",
       "       u'vietnamese', u'cajun_creole', u'brazilian', u'french',\n",
       "       u'japanese', u'irish', u'korean', u'moroccan', u'russian'], dtype=object)"
      ]
     },
     "execution_count": 61,
     "metadata": {},
     "output_type": "execute_result"
    }
   ],
   "source": [
    "df.cuisine.unique()"
   ]
  },
  {
   "cell_type": "code",
   "execution_count": 60,
   "metadata": {
    "collapsed": false
   },
   "outputs": [
    {
     "ename": "AttributeError",
     "evalue": "'list' object has no attribute 'dtype'",
     "output_type": "error",
     "traceback": [
      "\u001b[0;31m---------------------------------------------------------------------------\u001b[0m",
      "\u001b[0;31mAttributeError\u001b[0m                            Traceback (most recent call last)",
      "\u001b[0;32m<ipython-input-60-78613366fb65>\u001b[0m in \u001b[0;36m<module>\u001b[0;34m()\u001b[0m\n\u001b[0;32m----> 1\u001b[0;31m \u001b[0mdf\u001b[0m\u001b[0;34m.\u001b[0m\u001b[0mingredients\u001b[0m\u001b[0;34m[\u001b[0m\u001b[0;36m0\u001b[0m\u001b[0;34m]\u001b[0m\u001b[0;34m.\u001b[0m\u001b[0mdtype\u001b[0m\u001b[0;34m\u001b[0m\u001b[0m\n\u001b[0m",
      "\u001b[0;31mAttributeError\u001b[0m: 'list' object has no attribute 'dtype'"
     ]
    }
   ],
   "source": []
  },
  {
   "cell_type": "code",
   "execution_count": 48,
   "metadata": {
    "collapsed": false
   },
   "outputs": [
    {
     "name": "stdout",
     "output_type": "stream",
     "text": [
      "1 loop, best of 3: 1min 29s per loop\n"
     ]
    }
   ],
   "source": [
    "%%timeit\n",
    "df2 = pd.DataFrame(df.cuisine)\n",
    "length = df.ingredients.size\n",
    "for i in range(length):\n",
    "    recipie = df.ingredients.iloc[i]\n",
    "    for ingredient in recipie:\n",
    "        if ingredient not in df2.columns:\n",
    "            df2[ingredient] = 1\n"
   ]
  },
  {
   "cell_type": "code",
   "execution_count": 55,
   "metadata": {
    "collapsed": false
   },
   "outputs": [
    {
     "data": {
      "text/plain": [
       "Index([u'cuisine'], dtype='object')"
      ]
     },
     "execution_count": 55,
     "metadata": {},
     "output_type": "execute_result"
    }
   ],
   "source": [
    "df2.columns"
   ]
  },
  {
   "cell_type": "code",
   "execution_count": 54,
   "metadata": {
    "collapsed": true
   },
   "outputs": [
    {
     "data": {
      "text/plain": [
       "0        [romaine lettuce, black olives, grape tomatoes...\n",
       "1        [plain flour, ground pepper, salt, tomatoes, g...\n",
       "2        [eggs, pepper, salt, mayonaise, cooking oil, g...\n",
       "3                      [water, vegetable oil, wheat, salt]\n",
       "4        [black pepper, shallots, cornflour, cayenne pe...\n",
       "5        [plain flour, sugar, butter, eggs, fresh ginge...\n",
       "6        [olive oil, salt, medium shrimp, pepper, garli...\n",
       "7        [sugar, pistachio nuts, white almond bark, flo...\n",
       "8        [olive oil, purple onion, fresh pineapple, por...\n",
       "9        [chopped tomatoes, fresh basil, garlic, extra-...\n",
       "10       [pimentos, sweet pepper, dried oregano, olive ...\n",
       "11       [low sodium soy sauce, fresh ginger, dry musta...\n",
       "12       [Italian parsley leaves, walnuts, hot red pepp...\n",
       "13       [ground cinnamon, fresh cilantro, chili powder...\n",
       "14       [fresh parmesan cheese, butter, all-purpose fl...\n",
       "15       [tumeric, vegetable stock, tomatoes, garam mas...\n",
       "16       [greek yogurt, lemon curd, confectioners sugar...\n",
       "17       [italian seasoning, broiler-fryer chicken, may...\n",
       "18        [sugar, hot chili, asian fish sauce, lime juice]\n",
       "19       [soy sauce, vegetable oil, red bell pepper, ch...\n",
       "20       [pork loin, roasted peanuts, chopped cilantro ...\n",
       "21       [roma tomatoes, kosher salt, purple onion, jal...\n",
       "22       [low-fat mayonnaise, pepper, salt, baking pota...\n",
       "23       [sesame seeds, red pepper, yellow peppers, wat...\n",
       "24       [marinara sauce, flat leaf parsley, olive oil,...\n",
       "25       [sugar, lo mein noodles, salt, chicken broth, ...\n",
       "26       [herbs, lemon juice, fresh tomatoes, paprika, ...\n",
       "27       [ground black pepper, butter, sliced mushrooms...\n",
       "28       [green bell pepper, egg roll wrappers, sweet a...\n",
       "29       [flour tortillas, cheese, breakfast sausages, ...\n",
       "                               ...                        \n",
       "39744    [extra-virgin olive oil, oregano, potatoes, ga...\n",
       "39745    [quinoa, extra-virgin olive oil, fresh thyme l...\n",
       "39746    [clove, bay leaves, ginger, chopped cilantro, ...\n",
       "39747    [water, sugar, grated lemon zest, butter, pitt...\n",
       "39748    [sea salt, pizza doughs, all-purpose flour, co...\n",
       "39749    [kosher salt, minced onion, tortilla chips, su...\n",
       "39750    [ground black pepper, chicken breasts, salsa, ...\n",
       "39751    [olive oil, cayenne pepper, chopped cilantro f...\n",
       "39752    [self rising flour, milk, white sugar, butter,...\n",
       "39753    [rosemary sprigs, lemon zest, garlic cloves, g...\n",
       "39754    [jasmine rice, bay leaves, sticky rice, rotiss...\n",
       "39755    [mint leaves, cilantro leaves, ghee, tomatoes,...\n",
       "39756    [vegetable oil, cinnamon sticks, water, all-pu...\n",
       "39757    [red bell pepper, garlic cloves, extra-virgin ...\n",
       "39758    [milk, salt, ground cayenne pepper, ground lam...\n",
       "39759    [red chili peppers, sea salt, onions, water, c...\n",
       "39760    [butter, large eggs, cornmeal, baking powder, ...\n",
       "39761    [honey, chicken breast halves, cilantro leaves...\n",
       "39762    [curry powder, salt, chicken, water, vegetable...\n",
       "39763    [fettuccine pasta, low-fat cream cheese, garli...\n",
       "39764    [chili powder, worcestershire sauce, celery, r...\n",
       "39765    [coconut, unsweetened coconut milk, mint leave...\n",
       "39766    [rutabaga, ham, thick-cut bacon, potatoes, fre...\n",
       "39767    [low-fat sour cream, grated parmesan cheese, s...\n",
       "39768    [shredded cheddar cheese, crushed cheese crack...\n",
       "39769    [light brown sugar, granulated sugar, butter, ...\n",
       "39770    [KRAFT Zesty Italian Dressing, purple onion, b...\n",
       "39771    [eggs, citrus fruit, raisins, sourdough starte...\n",
       "39772    [boneless chicken skinless thigh, minced garli...\n",
       "39773    [green chile, jalapeno chilies, onions, ground...\n",
       "Name: ingredients, dtype: object"
      ]
     },
     "execution_count": 54,
     "metadata": {},
     "output_type": "execute_result"
    }
   ],
   "source": [
    "df.ingredients"
   ]
  },
  {
   "cell_type": "code",
   "execution_count": null,
   "metadata": {
    "collapsed": true
   },
   "outputs": [],
   "source": []
  }
 ],
 "metadata": {
  "anaconda-cloud": {},
  "kernelspec": {
   "display_name": "Python [conda root]",
   "language": "python",
   "name": "conda-root-py"
  },
  "language_info": {
   "codemirror_mode": {
    "name": "ipython",
    "version": 2
   },
   "file_extension": ".py",
   "mimetype": "text/x-python",
   "name": "python",
   "nbconvert_exporter": "python",
   "pygments_lexer": "ipython2",
   "version": "2.7.12"
  }
 },
 "nbformat": 4,
 "nbformat_minor": 1
}
