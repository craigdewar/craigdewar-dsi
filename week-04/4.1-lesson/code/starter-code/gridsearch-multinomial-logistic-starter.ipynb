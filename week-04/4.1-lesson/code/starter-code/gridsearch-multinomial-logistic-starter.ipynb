{
 "cells": [
  {
   "cell_type": "code",
   "execution_count": 149,
   "metadata": {
    "collapsed": true
   },
   "outputs": [],
   "source": [
    "import numpy as np\n",
    "import pandas as pd\n",
    "import patsy\n",
    "import matplotlib.pyplot as plt\n",
    "\n",
    "from sklearn.metrics import classification_report, confusion_matrix, accuracy_score\n",
    "from sklearn.cross_validation import train_test_split\n",
    "from sklearn.linear_model import LogisticRegression, LogisticRegressionCV\n",
    "from sklearn.grid_search import GridSearchCV"
   ]
  },
  {
   "cell_type": "code",
   "execution_count": 150,
   "metadata": {
    "collapsed": false
   },
   "outputs": [],
   "source": [
    "# prep data, covert date to datetime, split for train and test, and build model\n",
    "sf_crime = pd.read_csv('../../assets/datasets/sf_crime_train.csv')\n",
    "\n",
    "sf_crime = sf_crime.dropna()\n",
    "\n",
    "sf_crime['Dates'] = pd.to_datetime(sf_crime.Dates)\n",
    "sf_crime_dates = pd.DatetimeIndex(sf_crime.Dates.values, dtype='datetime64[ns]', freq=None)\n",
    "\n",
    "sf_crime['hour'] = sf_crime_dates.hour\n",
    "sf_crime['month'] = sf_crime_dates.month\n",
    "sf_crime['year'] = sf_crime_dates.year"
   ]
  },
  {
   "cell_type": "code",
   "execution_count": 151,
   "metadata": {
    "collapsed": false
   },
   "outputs": [
    {
     "data": {
      "text/html": [
       "<div>\n",
       "<table border=\"1\" class=\"dataframe\">\n",
       "  <thead>\n",
       "    <tr style=\"text-align: right;\">\n",
       "      <th></th>\n",
       "      <th>Dates</th>\n",
       "      <th>Category</th>\n",
       "      <th>Descript</th>\n",
       "      <th>DayOfWeek</th>\n",
       "      <th>PdDistrict</th>\n",
       "      <th>Resolution</th>\n",
       "      <th>Address</th>\n",
       "      <th>X</th>\n",
       "      <th>Y</th>\n",
       "      <th>hour</th>\n",
       "      <th>month</th>\n",
       "      <th>year</th>\n",
       "    </tr>\n",
       "  </thead>\n",
       "  <tbody>\n",
       "    <tr>\n",
       "      <th>0</th>\n",
       "      <td>2015-05-13 23:53:00</td>\n",
       "      <td>WARRANTS</td>\n",
       "      <td>WARRANT ARREST</td>\n",
       "      <td>Wednesday</td>\n",
       "      <td>NORTHERN</td>\n",
       "      <td>ARREST, BOOKED</td>\n",
       "      <td>OAK ST / LAGUNA ST</td>\n",
       "      <td>-122.425892</td>\n",
       "      <td>37.774599</td>\n",
       "      <td>23</td>\n",
       "      <td>5</td>\n",
       "      <td>2015</td>\n",
       "    </tr>\n",
       "    <tr>\n",
       "      <th>1</th>\n",
       "      <td>2015-05-13 23:53:00</td>\n",
       "      <td>OTHER OFFENSES</td>\n",
       "      <td>TRAFFIC VIOLATION ARREST</td>\n",
       "      <td>Wednesday</td>\n",
       "      <td>NORTHERN</td>\n",
       "      <td>ARREST, BOOKED</td>\n",
       "      <td>OAK ST / LAGUNA ST</td>\n",
       "      <td>-122.425892</td>\n",
       "      <td>37.774599</td>\n",
       "      <td>23</td>\n",
       "      <td>5</td>\n",
       "      <td>2015</td>\n",
       "    </tr>\n",
       "    <tr>\n",
       "      <th>2</th>\n",
       "      <td>2015-05-13 23:33:00</td>\n",
       "      <td>OTHER OFFENSES</td>\n",
       "      <td>TRAFFIC VIOLATION ARREST</td>\n",
       "      <td>Wednesday</td>\n",
       "      <td>NORTHERN</td>\n",
       "      <td>ARREST, BOOKED</td>\n",
       "      <td>VANNESS AV / GREENWICH ST</td>\n",
       "      <td>-122.424363</td>\n",
       "      <td>37.800414</td>\n",
       "      <td>23</td>\n",
       "      <td>5</td>\n",
       "      <td>2015</td>\n",
       "    </tr>\n",
       "    <tr>\n",
       "      <th>3</th>\n",
       "      <td>2015-05-13 23:30:00</td>\n",
       "      <td>LARCENY/THEFT</td>\n",
       "      <td>GRAND THEFT FROM LOCKED AUTO</td>\n",
       "      <td>Wednesday</td>\n",
       "      <td>NORTHERN</td>\n",
       "      <td>NONE</td>\n",
       "      <td>1500 Block of LOMBARD ST</td>\n",
       "      <td>-122.426995</td>\n",
       "      <td>37.800873</td>\n",
       "      <td>23</td>\n",
       "      <td>5</td>\n",
       "      <td>2015</td>\n",
       "    </tr>\n",
       "    <tr>\n",
       "      <th>4</th>\n",
       "      <td>2015-05-13 23:30:00</td>\n",
       "      <td>LARCENY/THEFT</td>\n",
       "      <td>GRAND THEFT FROM LOCKED AUTO</td>\n",
       "      <td>Wednesday</td>\n",
       "      <td>PARK</td>\n",
       "      <td>NONE</td>\n",
       "      <td>100 Block of BRODERICK ST</td>\n",
       "      <td>-122.438738</td>\n",
       "      <td>37.771541</td>\n",
       "      <td>23</td>\n",
       "      <td>5</td>\n",
       "      <td>2015</td>\n",
       "    </tr>\n",
       "  </tbody>\n",
       "</table>\n",
       "</div>"
      ],
      "text/plain": [
       "                Dates        Category                      Descript  \\\n",
       "0 2015-05-13 23:53:00        WARRANTS                WARRANT ARREST   \n",
       "1 2015-05-13 23:53:00  OTHER OFFENSES      TRAFFIC VIOLATION ARREST   \n",
       "2 2015-05-13 23:33:00  OTHER OFFENSES      TRAFFIC VIOLATION ARREST   \n",
       "3 2015-05-13 23:30:00   LARCENY/THEFT  GRAND THEFT FROM LOCKED AUTO   \n",
       "4 2015-05-13 23:30:00   LARCENY/THEFT  GRAND THEFT FROM LOCKED AUTO   \n",
       "\n",
       "   DayOfWeek PdDistrict      Resolution                    Address  \\\n",
       "0  Wednesday   NORTHERN  ARREST, BOOKED         OAK ST / LAGUNA ST   \n",
       "1  Wednesday   NORTHERN  ARREST, BOOKED         OAK ST / LAGUNA ST   \n",
       "2  Wednesday   NORTHERN  ARREST, BOOKED  VANNESS AV / GREENWICH ST   \n",
       "3  Wednesday   NORTHERN            NONE   1500 Block of LOMBARD ST   \n",
       "4  Wednesday       PARK            NONE  100 Block of BRODERICK ST   \n",
       "\n",
       "            X          Y  hour  month  year  \n",
       "0 -122.425892  37.774599    23      5  2015  \n",
       "1 -122.425892  37.774599    23      5  2015  \n",
       "2 -122.424363  37.800414    23      5  2015  \n",
       "3 -122.426995  37.800873    23      5  2015  \n",
       "4 -122.438738  37.771541    23      5  2015  "
      ]
     },
     "execution_count": 151,
     "metadata": {},
     "output_type": "execute_result"
    }
   ],
   "source": [
    "#sf_crime.describe(include='all')\n",
    "sf_crime.head()"
   ]
  },
  {
   "cell_type": "code",
   "execution_count": 152,
   "metadata": {
    "collapsed": false
   },
   "outputs": [
    {
     "data": {
      "image/png": "[encoded data removed]",
      "text/plain": [
       "<matplotlib.figure.Figure at 0x1170e01d0>"
      ]
     },
     "metadata": {},
     "output_type": "display_data"
    }
   ],
   "source": [
    "plt.hist(sf_crime[\"Category\"].value_counts())\n",
    "\n",
    "plt.show()"
   ]
  },
  {
   "cell_type": "code",
   "execution_count": 153,
   "metadata": {
    "collapsed": false
   },
   "outputs": [],
   "source": [
    "subset = ['VEHICLE THEFT','BURGLARY','DRUG/NARCOTIC']\n",
    "sf_crime_sub = sf_crime[sf_crime['Category'].str.contains('|'.join(subset))]\n",
    "\n",
    "#sf_sample = sf_crime_sub.sample(frac=0.50)\n",
    "\n",
    "X = patsy.dmatrix('~ C(hour) + C(DayOfWeek) + C(PdDistrict)', sf_crime_sub)#C denotes categories\n",
    "Y = sf_crime_sub.Category.values\n",
    "\n",
    "# split for train and test\n",
    "X_train, X_test, Y_train, Y_test = train_test_split(X, Y, test_size=0.33, stratify=Y, random_state=77)"
   ]
  },
  {
   "cell_type": "code",
   "execution_count": 154,
   "metadata": {
    "collapsed": false
   },
   "outputs": [
    {
     "data": {
      "text/plain": [
       "LogisticRegressionCV(Cs=15, class_weight=None, cv=5, dual=False,\n",
       "           fit_intercept=True, intercept_scaling=1.0, max_iter=100,\n",
       "           multi_class='ovr', n_jobs=1, penalty='l1', random_state=None,\n",
       "           refit=True, scoring=None, solver='liblinear', tol=0.0001,\n",
       "           verbose=0)"
      ]
     },
     "execution_count": 154,
     "metadata": {},
     "output_type": "execute_result"
    }
   ],
   "source": [
    "# fit model with five folds and lasso regularization\n",
    "# use Cs=15 to test a grid of 15 distinct parameters\n",
    "# remeber: Cs describes the inverse of regularization strength\n",
    "clf = LogisticRegressionCV(solver='liblinear', Cs =15, penalty =\"l1\", cv=5)\n",
    "clf.fit(X_train,Y_train)\n"
   ]
  },
  {
   "cell_type": "code",
   "execution_count": 155,
   "metadata": {
    "collapsed": false
   },
   "outputs": [
    {
     "name": "stdout",
     "output_type": "stream",
     "text": [
      "best C for class:\n",
      "{'BURGLARY': 1.0, 'VEHICLE THEFT': 3.7275937203149381, 'DRUG/NARCOTIC': 1.0}\n"
     ]
    }
   ],
   "source": [
    "# find best C per class\n",
    "print('best C for class:')\n",
    "best_C = {clf.classes_[i]:x for i, (x, c) in enumerate(zip(clf.C_, clf.classes_))}\n",
    "print(best_C)"
   ]
  },
  {
   "cell_type": "code",
   "execution_count": 156,
   "metadata": {
    "collapsed": false
   },
   "outputs": [
    {
     "data": {
      "text/plain": [
       "LogisticRegression(C=1, class_weight=None, dual=False, fit_intercept=True,\n",
       "          intercept_scaling=1, max_iter=100, multi_class='ovr', n_jobs=1,\n",
       "          penalty='l1', random_state=None, solver='liblinear', tol=0.0001,\n",
       "          verbose=0, warm_start=False)"
      ]
     },
     "execution_count": 156,
     "metadata": {},
     "output_type": "execute_result"
    }
   ],
   "source": [
    "# fit regular logit model to 'DRUG/NARCOTIC' and 'BURGLARY' classes\n",
    "\n",
    "#Drug/Narcotic\n",
    "#use lasso penalty\n",
    "\n",
    "logreg_1 = LogisticRegression(C=1, penalty=\"l1\")\n",
    "logreg_1.fit(X_train,Y_train)\n"
   ]
  },
  {
   "cell_type": "code",
   "execution_count": 157,
   "metadata": {
    "collapsed": false
   },
   "outputs": [
    {
     "data": {
      "text/plain": [
       "LogisticRegression(C=1, class_weight=None, dual=False, fit_intercept=True,\n",
       "          intercept_scaling=1, max_iter=100, multi_class='ovr', n_jobs=1,\n",
       "          penalty='l1', random_state=None, solver='liblinear', tol=0.0001,\n",
       "          verbose=0, warm_start=False)"
      ]
     },
     "execution_count": 157,
     "metadata": {},
     "output_type": "execute_result"
    }
   ],
   "source": [
    "logreg_2 = LogisticRegression(C=1, penalty=\"l1\")\n",
    "logreg_2.fit(X_train,Y_train)"
   ]
  },
  {
   "cell_type": "code",
   "execution_count": 158,
   "metadata": {
    "collapsed": false
   },
   "outputs": [],
   "source": [
    "# build confusion matrices for the models above\n",
    "Y_1_pred = logreg_1.predict(X_train)\n",
    "Y_2_pred = logreg_2.predict(X_train)\n",
    "\n",
    "conmat_1 = confusion_matrix(Y_train, Y_1_pred, labels=logreg_1.classes_)\n",
    "conmat_1 = pd.DataFrame(conmat_1, columns=logreg_1.classes_, index=logreg_1.classes_)\n",
    "\n",
    "conmat_2 = confusion_matrix(Y_train, Y_2_pred, labels=logreg_2.classes_)\n",
    "conmat_2 = pd.DataFrame(conmat_2, columns=logreg_2.classes_, index=logreg_2.classes_)\n"
   ]
  },
  {
   "cell_type": "code",
   "execution_count": 159,
   "metadata": {
    "collapsed": false
   },
   "outputs": [
    {
     "name": "stdout",
     "output_type": "stream",
     "text": [
      "             precision    recall  f1-score   support\n",
      "\n",
      "   BURGLARY       0.50      0.44      0.47       490\n",
      "DRUG/NARCOTIC       0.70      0.30      0.42       332\n",
      "VEHICLE THEFT       0.56      0.78      0.66       648\n",
      "\n",
      "avg / total       0.57      0.56      0.54      1470\n",
      "\n"
     ]
    }
   ],
   "source": [
    "# print classification reports\n",
    "print classification_report(Y_train, Y_1_pred)"
   ]
  },
  {
   "cell_type": "code",
   "execution_count": 160,
   "metadata": {
    "collapsed": false
   },
   "outputs": [],
   "source": [
    "# run gridsearch using GridSearchCV and 5 folds\n",
    "# score on f1_macro; what does this metric tell us?\n",
    "logreg = LogisticRegression()\n",
    "C_vals = [0.0001, 0.001, 0.01, 0.1, 0.5, 0.75, 1.0, 2.5, 5.0, 10.0, 100.0, 1000.0]\n",
    "penalties = ['l1','l2']\n"
   ]
  },
  {
   "cell_type": "code",
   "execution_count": 161,
   "metadata": {
    "collapsed": false
   },
   "outputs": [],
   "source": [
    "# find the best parameter\n"
   ]
  },
  {
   "cell_type": "code",
   "execution_count": 162,
   "metadata": {
    "collapsed": false
   },
   "outputs": [],
   "source": [
    "# use this parameter to .fit, .predict, and print a classification_report for our X and Y\n"
   ]
  },
  {
   "cell_type": "markdown",
   "metadata": {
    "collapsed": true
   },
   "source": [
    "# Setting Thresholds for Binary Classes"
   ]
  },
  {
   "cell_type": "code",
   "execution_count": 163,
   "metadata": {
    "collapsed": true
   },
   "outputs": [],
   "source": [
    "#Get subsetj of categories we want to predict: one much worse that the other\n",
    "subset = ['ASSAULT','VANDALISM']\n",
    "sf_crime_sub = sf_crime[sf_crime['Category'].str.contains('|'.join(subset))]\n",
    "\n",
    "#sf_sample = sf_crime_sub.sample(frac=0.50)\n",
    "X = patsy.dmatrix('~C(hour) + C(DayOfWeek) + C(PdDistrict) + X + Y', sf_crime_sub)\n",
    "Y = sf_crime_sub.Category.values\n",
    "\n",
    "#split for train and test\n",
    "X_train, X_test, Y_train, Y_test = train_test_split(X, Y, test_size=0.33, stratify=Y, random_state=5)\n",
    "#or use from sklearn.model_selection import StratifiedKFold to ensure stratification"
   ]
  },
  {
   "cell_type": "code",
   "execution_count": 170,
   "metadata": {
    "collapsed": false
   },
   "outputs": [
    {
     "data": {
      "text/plain": [
       "LogisticRegressionCV(Cs=10, class_weight=None, cv=5, dual=False,\n",
       "           fit_intercept=True, intercept_scaling=1.0, max_iter=100,\n",
       "           multi_class='ovr', n_jobs=1, penalty='l2', random_state=None,\n",
       "           refit=True, scoring='accuracy', solver='lbfgs', tol=0.0001,\n",
       "           verbose=0)"
      ]
     },
     "execution_count": 170,
     "metadata": {},
     "output_type": "execute_result"
    }
   ],
   "source": [
    "clf = LogisticRegressionCV(cv=5, scoring='accuracy')\n",
    "clf.fit(X_train,Y_train)"
   ]
  },
  {
   "cell_type": "code",
   "execution_count": 171,
   "metadata": {
    "collapsed": false
   },
   "outputs": [
    {
     "data": {
      "text/html": [
       "<div>\n",
       "<table border=\"1\" class=\"dataframe\">\n",
       "  <thead>\n",
       "    <tr style=\"text-align: right;\">\n",
       "      <th></th>\n",
       "      <th>ASSAULT</th>\n",
       "      <th>VANDALISM</th>\n",
       "    </tr>\n",
       "  </thead>\n",
       "  <tbody>\n",
       "    <tr>\n",
       "      <th>ASSAULT</th>\n",
       "      <td>458</td>\n",
       "      <td>50</td>\n",
       "    </tr>\n",
       "    <tr>\n",
       "      <th>VANDALISM</th>\n",
       "      <td>229</td>\n",
       "      <td>60</td>\n",
       "    </tr>\n",
       "  </tbody>\n",
       "</table>\n",
       "</div>"
      ],
      "text/plain": [
       "           ASSAULT  VANDALISM\n",
       "ASSAULT        458         50\n",
       "VANDALISM      229         60"
      ]
     },
     "execution_count": 171,
     "metadata": {},
     "output_type": "execute_result"
    }
   ],
   "source": [
    "Ypred = clf.predict(X_test)\n",
    "\n",
    "conmat = confusion_matrix(Y_test, Ypred, labels=clf.classes_)\n",
    "pd.DataFrame(conmat, columns=clf.classes_, index=clf.classes_)"
   ]
  },
  {
   "cell_type": "code",
   "execution_count": 174,
   "metadata": {
    "collapsed": false
   },
   "outputs": [
    {
     "name": "stdout",
     "output_type": "stream",
     "text": [
      "             precision    recall  f1-score   support\n",
      "\n",
      "    ASSAULT       0.67      0.90      0.77       508\n",
      "  VANDALISM       0.55      0.21      0.30       289\n",
      "\n",
      "avg / total       0.62      0.65      0.60       797\n",
      "\n"
     ]
    }
   ],
   "source": [
    "print classification_report(Y_test,Ypred)"
   ]
  },
  {
   "cell_type": "code",
   "execution_count": 176,
   "metadata": {
    "collapsed": true
   },
   "outputs": [
    {
     "data": {
      "text/plain": [
       "array(['VANDALISM', 'ASSAULT', 'VANDALISM', 'ASSAULT', 'ASSAULT',\n",
       "       'VANDALISM', 'ASSAULT', 'ASSAULT', 'ASSAULT', 'ASSAULT', 'ASSAULT',\n",
       "       'VANDALISM', 'VANDALISM', 'ASSAULT', 'ASSAULT', 'ASSAULT',\n",
       "       'VANDALISM', 'VANDALISM', 'ASSAULT', 'VANDALISM', 'ASSAULT',\n",
       "       'ASSAULT', 'VANDALISM', 'VANDALISM', 'ASSAULT', 'ASSAULT',\n",
       "       'VANDALISM', 'ASSAULT', 'VANDALISM', 'VANDALISM', 'ASSAULT',\n",
       "       'ASSAULT', 'ASSAULT', 'ASSAULT', 'VANDALISM', 'ASSAULT',\n",
       "       'VANDALISM', 'ASSAULT', 'ASSAULT', 'ASSAULT', 'ASSAULT', 'ASSAULT',\n",
       "       'ASSAULT', 'ASSAULT', 'VANDALISM', 'ASSAULT', 'VANDALISM',\n",
       "       'VANDALISM', 'VANDALISM', 'ASSAULT', 'VANDALISM', 'VANDALISM',\n",
       "       'VANDALISM', 'ASSAULT', 'ASSAULT', 'ASSAULT', 'VANDALISM',\n",
       "       'VANDALISM', 'ASSAULT', 'ASSAULT', 'ASSAULT', 'VANDALISM',\n",
       "       'ASSAULT', 'VANDALISM', 'ASSAULT', 'ASSAULT', 'ASSAULT', 'ASSAULT',\n",
       "       'ASSAULT', 'VANDALISM', 'ASSAULT', 'VANDALISM', 'ASSAULT',\n",
       "       'ASSAULT', 'ASSAULT', 'VANDALISM', 'ASSAULT', 'ASSAULT',\n",
       "       'VANDALISM', 'ASSAULT', 'ASSAULT', 'ASSAULT', 'ASSAULT', 'ASSAULT',\n",
       "       'VANDALISM', 'VANDALISM', 'ASSAULT', 'ASSAULT', 'VANDALISM',\n",
       "       'ASSAULT', 'ASSAULT', 'VANDALISM', 'VANDALISM', 'ASSAULT',\n",
       "       'VANDALISM', 'VANDALISM', 'ASSAULT', 'ASSAULT', 'VANDALISM',\n",
       "       'ASSAULT', 'VANDALISM', 'ASSAULT', 'ASSAULT', 'ASSAULT', 'ASSAULT',\n",
       "       'ASSAULT', 'ASSAULT', 'ASSAULT', 'VANDALISM', 'ASSAULT',\n",
       "       'VANDALISM', 'VANDALISM', 'VANDALISM', 'ASSAULT', 'VANDALISM',\n",
       "       'VANDALISM', 'ASSAULT', 'VANDALISM', 'VANDALISM', 'ASSAULT',\n",
       "       'VANDALISM', 'VANDALISM', 'VANDALISM', 'ASSAULT', 'ASSAULT',\n",
       "       'VANDALISM', 'ASSAULT', 'ASSAULT', 'VANDALISM', 'ASSAULT',\n",
       "       'VANDALISM', 'ASSAULT', 'VANDALISM', 'ASSAULT', 'ASSAULT',\n",
       "       'VANDALISM', 'VANDALISM', 'ASSAULT', 'ASSAULT', 'VANDALISM',\n",
       "       'ASSAULT', 'VANDALISM', 'ASSAULT', 'VANDALISM', 'ASSAULT',\n",
       "       'ASSAULT', 'VANDALISM', 'VANDALISM', 'VANDALISM', 'ASSAULT',\n",
       "       'VANDALISM', 'ASSAULT', 'ASSAULT', 'ASSAULT', 'ASSAULT', 'ASSAULT',\n",
       "       'ASSAULT', 'ASSAULT', 'VANDALISM', 'VANDALISM', 'ASSAULT',\n",
       "       'ASSAULT', 'VANDALISM', 'VANDALISM', 'ASSAULT', 'VANDALISM',\n",
       "       'ASSAULT', 'VANDALISM', 'VANDALISM', 'VANDALISM', 'ASSAULT',\n",
       "       'VANDALISM', 'VANDALISM', 'ASSAULT', 'ASSAULT', 'ASSAULT',\n",
       "       'ASSAULT', 'VANDALISM', 'ASSAULT', 'VANDALISM', 'VANDALISM',\n",
       "       'VANDALISM', 'ASSAULT', 'VANDALISM', 'VANDALISM', 'ASSAULT',\n",
       "       'ASSAULT', 'ASSAULT', 'ASSAULT', 'ASSAULT', 'VANDALISM', 'ASSAULT',\n",
       "       'ASSAULT', 'VANDALISM', 'ASSAULT', 'ASSAULT', 'ASSAULT',\n",
       "       'VANDALISM', 'ASSAULT', 'ASSAULT', 'ASSAULT', 'VANDALISM',\n",
       "       'ASSAULT', 'ASSAULT', 'ASSAULT', 'VANDALISM', 'ASSAULT', 'ASSAULT',\n",
       "       'ASSAULT', 'ASSAULT', 'VANDALISM', 'VANDALISM', 'VANDALISM',\n",
       "       'VANDALISM', 'VANDALISM', 'ASSAULT', 'ASSAULT', 'VANDALISM',\n",
       "       'ASSAULT', 'ASSAULT', 'ASSAULT', 'ASSAULT', 'ASSAULT', 'ASSAULT',\n",
       "       'ASSAULT', 'VANDALISM', 'ASSAULT', 'ASSAULT', 'VANDALISM',\n",
       "       'ASSAULT', 'ASSAULT', 'VANDALISM', 'VANDALISM', 'ASSAULT',\n",
       "       'ASSAULT', 'ASSAULT', 'ASSAULT', 'ASSAULT', 'ASSAULT', 'ASSAULT',\n",
       "       'ASSAULT', 'ASSAULT', 'ASSAULT', 'VANDALISM', 'ASSAULT', 'ASSAULT',\n",
       "       'ASSAULT', 'ASSAULT', 'ASSAULT', 'ASSAULT', 'ASSAULT', 'VANDALISM',\n",
       "       'VANDALISM', 'VANDALISM', 'ASSAULT', 'VANDALISM', 'ASSAULT',\n",
       "       'ASSAULT', 'VANDALISM', 'ASSAULT', 'VANDALISM', 'ASSAULT',\n",
       "       'ASSAULT', 'ASSAULT', 'VANDALISM', 'ASSAULT', 'VANDALISM',\n",
       "       'VANDALISM', 'ASSAULT', 'VANDALISM', 'ASSAULT', 'ASSAULT',\n",
       "       'ASSAULT', 'ASSAULT', 'ASSAULT', 'VANDALISM', 'ASSAULT',\n",
       "       'VANDALISM', 'ASSAULT', 'ASSAULT', 'ASSAULT', 'VANDALISM',\n",
       "       'ASSAULT', 'ASSAULT', 'VANDALISM', 'ASSAULT', 'ASSAULT',\n",
       "       'VANDALISM', 'ASSAULT', 'ASSAULT', 'ASSAULT', 'ASSAULT', 'ASSAULT',\n",
       "       'VANDALISM', 'ASSAULT', 'ASSAULT', 'ASSAULT', 'ASSAULT', 'ASSAULT',\n",
       "       'ASSAULT', 'ASSAULT', 'ASSAULT', 'ASSAULT', 'ASSAULT', 'ASSAULT',\n",
       "       'ASSAULT', 'VANDALISM', 'ASSAULT', 'ASSAULT', 'VANDALISM',\n",
       "       'ASSAULT', 'ASSAULT', 'ASSAULT', 'ASSAULT', 'ASSAULT', 'ASSAULT',\n",
       "       'VANDALISM', 'ASSAULT', 'ASSAULT', 'ASSAULT', 'VANDALISM',\n",
       "       'ASSAULT', 'ASSAULT', 'ASSAULT', 'VANDALISM', 'VANDALISM',\n",
       "       'VANDALISM', 'VANDALISM', 'ASSAULT', 'VANDALISM', 'VANDALISM',\n",
       "       'ASSAULT', 'ASSAULT', 'ASSAULT', 'VANDALISM', 'ASSAULT', 'ASSAULT',\n",
       "       'ASSAULT', 'ASSAULT', 'ASSAULT', 'ASSAULT', 'ASSAULT', 'VANDALISM',\n",
       "       'ASSAULT', 'VANDALISM', 'ASSAULT', 'ASSAULT', 'VANDALISM',\n",
       "       'VANDALISM', 'ASSAULT', 'VANDALISM', 'VANDALISM', 'ASSAULT',\n",
       "       'ASSAULT', 'VANDALISM', 'ASSAULT', 'VANDALISM', 'ASSAULT',\n",
       "       'ASSAULT', 'ASSAULT', 'ASSAULT', 'VANDALISM', 'ASSAULT',\n",
       "       'VANDALISM', 'ASSAULT', 'ASSAULT', 'VANDALISM', 'ASSAULT',\n",
       "       'ASSAULT', 'ASSAULT', 'ASSAULT', 'VANDALISM', 'VANDALISM',\n",
       "       'ASSAULT', 'ASSAULT', 'ASSAULT', 'VANDALISM', 'VANDALISM',\n",
       "       'ASSAULT', 'VANDALISM', 'VANDALISM', 'ASSAULT', 'ASSAULT',\n",
       "       'ASSAULT', 'VANDALISM', 'ASSAULT', 'VANDALISM', 'ASSAULT',\n",
       "       'ASSAULT', 'ASSAULT', 'ASSAULT', 'ASSAULT', 'ASSAULT', 'VANDALISM',\n",
       "       'VANDALISM', 'VANDALISM', 'ASSAULT', 'ASSAULT', 'VANDALISM',\n",
       "       'ASSAULT', 'VANDALISM', 'ASSAULT', 'ASSAULT', 'VANDALISM',\n",
       "       'VANDALISM', 'VANDALISM', 'ASSAULT', 'VANDALISM', 'VANDALISM',\n",
       "       'ASSAULT', 'ASSAULT', 'ASSAULT', 'ASSAULT', 'VANDALISM', 'ASSAULT',\n",
       "       'ASSAULT', 'ASSAULT', 'VANDALISM', 'ASSAULT', 'ASSAULT',\n",
       "       'VANDALISM', 'ASSAULT', 'ASSAULT', 'VANDALISM', 'VANDALISM',\n",
       "       'ASSAULT', 'ASSAULT', 'ASSAULT', 'ASSAULT', 'VANDALISM', 'ASSAULT',\n",
       "       'ASSAULT', 'VANDALISM', 'ASSAULT', 'ASSAULT', 'VANDALISM',\n",
       "       'ASSAULT', 'VANDALISM', 'ASSAULT', 'VANDALISM', 'ASSAULT',\n",
       "       'ASSAULT', 'ASSAULT', 'VANDALISM', 'ASSAULT', 'ASSAULT', 'ASSAULT',\n",
       "       'ASSAULT', 'VANDALISM', 'ASSAULT', 'ASSAULT', 'VANDALISM',\n",
       "       'ASSAULT', 'VANDALISM', 'ASSAULT', 'ASSAULT', 'VANDALISM',\n",
       "       'ASSAULT', 'VANDALISM', 'ASSAULT', 'VANDALISM', 'VANDALISM',\n",
       "       'ASSAULT', 'VANDALISM', 'ASSAULT', 'VANDALISM', 'ASSAULT',\n",
       "       'VANDALISM', 'ASSAULT', 'ASSAULT', 'ASSAULT', 'ASSAULT', 'ASSAULT',\n",
       "       'ASSAULT', 'ASSAULT', 'VANDALISM', 'ASSAULT', 'ASSAULT', 'ASSAULT',\n",
       "       'ASSAULT', 'ASSAULT', 'ASSAULT', 'ASSAULT', 'ASSAULT', 'VANDALISM',\n",
       "       'ASSAULT', 'ASSAULT', 'VANDALISM', 'ASSAULT', 'VANDALISM',\n",
       "       'VANDALISM', 'ASSAULT', 'ASSAULT', 'ASSAULT', 'ASSAULT', 'ASSAULT',\n",
       "       'ASSAULT', 'ASSAULT', 'ASSAULT', 'VANDALISM', 'VANDALISM',\n",
       "       'ASSAULT', 'ASSAULT', 'VANDALISM', 'ASSAULT', 'ASSAULT', 'ASSAULT',\n",
       "       'VANDALISM', 'ASSAULT', 'VANDALISM', 'ASSAULT', 'VANDALISM',\n",
       "       'ASSAULT', 'ASSAULT', 'VANDALISM', 'ASSAULT', 'ASSAULT', 'ASSAULT',\n",
       "       'VANDALISM', 'ASSAULT', 'VANDALISM', 'ASSAULT', 'ASSAULT',\n",
       "       'ASSAULT', 'ASSAULT', 'VANDALISM', 'ASSAULT', 'VANDALISM',\n",
       "       'ASSAULT', 'ASSAULT', 'ASSAULT', 'ASSAULT', 'VANDALISM',\n",
       "       'VANDALISM', 'ASSAULT', 'ASSAULT', 'ASSAULT', 'VANDALISM',\n",
       "       'VANDALISM', 'ASSAULT', 'VANDALISM', 'VANDALISM', 'VANDALISM',\n",
       "       'VANDALISM', 'VANDALISM', 'VANDALISM', 'VANDALISM', 'VANDALISM',\n",
       "       'ASSAULT', 'ASSAULT', 'ASSAULT', 'ASSAULT', 'ASSAULT', 'ASSAULT',\n",
       "       'ASSAULT', 'ASSAULT', 'ASSAULT', 'ASSAULT', 'ASSAULT', 'ASSAULT',\n",
       "       'ASSAULT', 'ASSAULT', 'ASSAULT', 'VANDALISM', 'ASSAULT', 'ASSAULT',\n",
       "       'VANDALISM', 'VANDALISM', 'ASSAULT', 'ASSAULT', 'ASSAULT',\n",
       "       'ASSAULT', 'ASSAULT', 'VANDALISM', 'ASSAULT', 'ASSAULT', 'ASSAULT',\n",
       "       'ASSAULT', 'VANDALISM', 'ASSAULT', 'ASSAULT', 'ASSAULT', 'ASSAULT',\n",
       "       'ASSAULT', 'VANDALISM', 'ASSAULT', 'ASSAULT', 'VANDALISM',\n",
       "       'VANDALISM', 'ASSAULT', 'VANDALISM', 'VANDALISM', 'ASSAULT',\n",
       "       'VANDALISM', 'VANDALISM', 'ASSAULT', 'VANDALISM', 'VANDALISM',\n",
       "       'ASSAULT', 'ASSAULT', 'VANDALISM', 'VANDALISM', 'ASSAULT',\n",
       "       'VANDALISM', 'ASSAULT', 'VANDALISM', 'ASSAULT', 'ASSAULT',\n",
       "       'ASSAULT', 'ASSAULT', 'VANDALISM', 'VANDALISM', 'ASSAULT',\n",
       "       'ASSAULT', 'ASSAULT', 'VANDALISM', 'ASSAULT', 'ASSAULT', 'ASSAULT',\n",
       "       'VANDALISM', 'ASSAULT', 'ASSAULT', 'VANDALISM', 'ASSAULT',\n",
       "       'ASSAULT', 'ASSAULT', 'ASSAULT', 'ASSAULT', 'ASSAULT', 'ASSAULT',\n",
       "       'ASSAULT', 'ASSAULT', 'VANDALISM', 'ASSAULT', 'VANDALISM',\n",
       "       'ASSAULT', 'VANDALISM', 'ASSAULT', 'ASSAULT', 'ASSAULT', 'ASSAULT',\n",
       "       'VANDALISM', 'ASSAULT', 'VANDALISM', 'VANDALISM', 'ASSAULT',\n",
       "       'VANDALISM', 'ASSAULT', 'ASSAULT', 'VANDALISM', 'VANDALISM',\n",
       "       'VANDALISM', 'ASSAULT', 'ASSAULT', 'VANDALISM', 'VANDALISM',\n",
       "       'ASSAULT', 'ASSAULT', 'ASSAULT', 'VANDALISM', 'ASSAULT', 'ASSAULT',\n",
       "       'ASSAULT', 'ASSAULT', 'ASSAULT', 'VANDALISM', 'VANDALISM',\n",
       "       'ASSAULT', 'ASSAULT', 'VANDALISM', 'VANDALISM', 'ASSAULT',\n",
       "       'VANDALISM', 'ASSAULT', 'VANDALISM', 'ASSAULT', 'VANDALISM',\n",
       "       'VANDALISM', 'ASSAULT', 'VANDALISM', 'ASSAULT', 'ASSAULT',\n",
       "       'VANDALISM', 'ASSAULT', 'ASSAULT', 'ASSAULT', 'ASSAULT',\n",
       "       'VANDALISM', 'ASSAULT', 'ASSAULT', 'ASSAULT', 'ASSAULT', 'ASSAULT',\n",
       "       'ASSAULT', 'VANDALISM', 'VANDALISM', 'VANDALISM', 'VANDALISM',\n",
       "       'VANDALISM', 'ASSAULT', 'VANDALISM', 'ASSAULT', 'ASSAULT',\n",
       "       'ASSAULT', 'ASSAULT', 'VANDALISM', 'ASSAULT', 'ASSAULT', 'ASSAULT',\n",
       "       'VANDALISM', 'VANDALISM', 'ASSAULT', 'ASSAULT', 'VANDALISM',\n",
       "       'VANDALISM', 'VANDALISM', 'ASSAULT', 'ASSAULT', 'ASSAULT',\n",
       "       'ASSAULT', 'ASSAULT', 'VANDALISM', 'ASSAULT', 'VANDALISM',\n",
       "       'VANDALISM', 'ASSAULT', 'VANDALISM', 'ASSAULT', 'VANDALISM',\n",
       "       'VANDALISM', 'ASSAULT', 'ASSAULT', 'ASSAULT', 'VANDALISM',\n",
       "       'ASSAULT', 'VANDALISM', 'VANDALISM', 'VANDALISM', 'ASSAULT',\n",
       "       'ASSAULT', 'ASSAULT', 'VANDALISM', 'ASSAULT', 'ASSAULT', 'ASSAULT',\n",
       "       'ASSAULT', 'VANDALISM', 'ASSAULT', 'VANDALISM', 'ASSAULT',\n",
       "       'ASSAULT', 'ASSAULT', 'ASSAULT', 'VANDALISM', 'ASSAULT', 'ASSAULT',\n",
       "       'VANDALISM', 'VANDALISM', 'ASSAULT', 'VANDALISM', 'ASSAULT',\n",
       "       'ASSAULT', 'VANDALISM', 'ASSAULT', 'VANDALISM', 'VANDALISM',\n",
       "       'ASSAULT', 'ASSAULT', 'VANDALISM', 'ASSAULT', 'ASSAULT', 'ASSAULT',\n",
       "       'VANDALISM', 'ASSAULT', 'ASSAULT', 'VANDALISM', 'ASSAULT',\n",
       "       'ASSAULT', 'ASSAULT', 'ASSAULT', 'ASSAULT', 'VANDALISM', 'ASSAULT',\n",
       "       'VANDALISM', 'ASSAULT', 'ASSAULT', 'ASSAULT', 'VANDALISM',\n",
       "       'ASSAULT', 'VANDALISM', 'ASSAULT', 'VANDALISM', 'ASSAULT',\n",
       "       'VANDALISM', 'ASSAULT', 'VANDALISM', 'ASSAULT'], dtype=object)"
      ]
     },
     "execution_count": 176,
     "metadata": {},
     "output_type": "execute_result"
    }
   ],
   "source": [
    "Y_test"
   ]
  },
  {
   "cell_type": "code",
   "execution_count": 185,
   "metadata": {
    "collapsed": true
   },
   "outputs": [],
   "source": [
    "from sklearn import metrics"
   ]
  },
  {
   "cell_type": "code",
   "execution_count": 186,
   "metadata": {
    "collapsed": false
   },
   "outputs": [],
   "source": [
    "y_score = clf.fit(X_train, Y_train).decision_function(X_test)\n",
    "fpr, tpr, thresholds = metrics.roc_curve(Y_test, y_score, pos_label='VANDALISM')"
   ]
  },
  {
   "cell_type": "code",
   "execution_count": 187,
   "metadata": {
    "collapsed": false
   },
   "outputs": [
    {
     "data": {
      "text/plain": [
       "array([-0.64,  0.2 , -1.15, -1.07, -0.08, -1.2 ,  0.19, -0.5 , -0.39,\n",
       "       -0.09, -1.14,  0.23, -0.78, -0.74,  0.21, -1.2 , -0.7 , -0.65,\n",
       "       -0.07, -0.42, -0.54,  0.29, -1.27, -0.29, -1.04, -1.37, -1.64,\n",
       "       -1.15, -0.09, -1.17, -1.57, -0.75, -1.21, -1.04, -0.16, -1.17,\n",
       "       -0.3 , -0.62, -0.09, -0.99, -1.15, -0.54, -1.61, -0.16,  0.09,\n",
       "       -1.49,  0.01, -0.52, -0.45, -1.42,  0.02, -0.6 ,  0.07, -0.72,\n",
       "       -1.11, -1.03, -0.56, -1.17, -0.3 ,  0.06, -1.69,  0.41, -0.53,\n",
       "       -0.53, -0.93, -1.15, -0.75, -0.82, -1.14, -0.4 , -0.45, -1.62,\n",
       "       -0.59,  0.09, -0.91,  0.02, -0.81, -0.17, -0.51, -0.36, -1.04,\n",
       "       -0.89, -0.54, -0.02, -1.86, -0.17, -1.7 , -1.71, -0.81, -0.23,\n",
       "       -0.22, -0.82, -0.92, -0.66,  0.07,  0.23, -0.27, -0.39, -0.76,\n",
       "        0.08, -0.63, -1.9 , -1.05,  0.01, -1.23,  0.18, -0.23, -1.09,\n",
       "       -0.81, -0.44, -0.69,  0.01, -1.21, -0.24, -0.94, -0.44, -0.86,\n",
       "       -0.3 , -0.3 , -1.08, -0.32, -0.7 ,  0.28, -1.73, -0.12, -1.08,\n",
       "       -0.32, -0.5 ,  0.08, -0.73,  0.23, -0.31, -0.86, -0.44, -1.52,\n",
       "       -1.92, -0.57, -0.83, -0.01, -0.93, -0.86, -0.22, -0.71, -0.13,\n",
       "       -1.44, -0.93, -0.99,  0.27, -1.15, -1.5 , -0.7 , -0.86, -0.99,\n",
       "       -0.27, -0.42, -1.18, -0.35, -0.28, -0.02, -0.68, -1.34, -0.64,\n",
       "       -0.18, -1.09, -0.19, -0.4 , -0.63, -0.23, -0.39,  0.2 , -0.91,\n",
       "        0.04, -1.49, -0.08, -0.76,  0.44, -0.12,  0.1 , -0.43, -1.52,\n",
       "        0.33, -1.15,  0.38, -0.05, -1.61, -0.05, -0.4 , -0.01, -0.3 ,\n",
       "       -0.49, -0.3 , -1.56, -0.81, -0.27, -1.4 , -0.55, -0.74, -0.  ,\n",
       "       -0.5 , -0.08, -1.18, -0.08, -0.08, -0.97, -0.62, -0.37, -0.28,\n",
       "       -0.96, -0.75, -1.05, -0.44, -0.69, -0.73, -0.04, -0.04, -1.19,\n",
       "       -1.58, -0.47, -0.16, -0.27, -0.28, -0.73, -0.74, -1.05, -0.02,\n",
       "       -1.11, -0.68, -1.12, -0.11, -0.76, -0.35, -0.21, -0.22,  0.1 ,\n",
       "        0.11, -0.75, -1.87, -0.89, -0.54, -1.08, -1.06, -0.95, -1.01,\n",
       "       -0.3 , -0.59,  0.28, -0.25,  0.24, -0.57, -1.54, -1.8 ,  0.09,\n",
       "       -0.68, -0.58,  0.43, -0.88, -1.03, -0.8 ,  0.41, -1.89, -0.78,\n",
       "        0.21, -0.08, -0.96, -0.21, -1.26, -1.33, -1.6 , -1.45,  0.39,\n",
       "       -0.57,  0.46, -1.41, -1.07, -0.55, -0.71, -0.97, -0.74, -0.12,\n",
       "       -1.02, -1.77, -1.  , -1.24, -0.15, -1.35, -0.02, -0.42, -0.18,\n",
       "        0.01, -1.24, -0.  , -1.55, -0.13, -0.02, -1.32, -0.79,  0.23,\n",
       "       -1.75, -0.44, -1.55, -0.55,  0.31, -0.47, -1.64, -0.86, -1.11,\n",
       "       -0.28, -0.93,  0.71, -0.25, -1.69, -0.35, -1.72, -0.68, -0.84,\n",
       "       -0.04, -1.88, -0.98, -1.67, -0.55,  0.21, -0.86, -0.24, -1.18,\n",
       "       -0.62,  0.35, -0.81, -0.23, -0.61,  0.22,  0.12, -0.2 ,  0.27,\n",
       "       -1.29, -0.72, -0.36, -0.1 , -0.84, -0.95, -1.53, -0.38, -1.13,\n",
       "       -0.26, -0.71,  0.03, -0.91, -0.66,  0.29, -0.34, -0.08, -0.88,\n",
       "       -0.63,  0.01, -0.6 , -0.08, -1.01, -1.05, -0.34, -0.1 , -1.79,\n",
       "       -1.72,  0.4 , -1.17, -0.73, -0.44,  0.09, -0.12, -1.89, -1.95,\n",
       "       -0.07, -0.26, -0.53, -0.68,  0.38, -0.2 , -0.86, -0.3 , -1.3 ,\n",
       "       -0.72,  0.08, -0.68, -0.43, -1.17, -0.93, -1.34, -0.28, -0.03,\n",
       "       -1.51, -2.  , -2.11,  0.23, -0.01, -1.27, -0.21, -1.86,  0.08,\n",
       "       -0.64, -0.13, -0.99, -0.77, -0.92, -1.2 , -0.66, -0.47, -1.09,\n",
       "       -0.19, -0.95, -0.36, -0.44, -0.32, -0.43,  0.3 , -0.94,  0.13,\n",
       "       -0.83,  0.1 , -0.37, -1.16, -1.02, -0.88, -0.68, -0.49, -0.1 ,\n",
       "       -0.1 , -0.33, -0.43, -0.55, -0.75, -0.75,  0.07, -1.06, -0.35,\n",
       "       -1.29,  0.29,  0.08, -0.03, -0.51, -1.07, -1.04, -0.92, -0.43,\n",
       "       -0.93, -0.75, -1.53, -0.67, -1.69, -0.72, -1.33, -0.65, -0.66,\n",
       "       -0.63, -0.9 , -0.21, -0.15, -0.68, -1.33, -1.12, -0.75, -0.04,\n",
       "       -1.04, -1.56, -0.93, -1.36,  0.07, -1.14,  0.3 , -0.23, -0.31,\n",
       "       -0.2 , -1.08, -1.01, -0.25, -0.25, -0.85, -1.21,  0.5 , -0.03,\n",
       "       -0.8 , -0.71, -0.79, -0.88, -0.12, -1.36, -1.23, -0.3 , -0.94,\n",
       "       -0.79,  0.52,  0.14, -0.69, -0.75,  0.3 , -0.62, -0.49, -0.24,\n",
       "       -0.15, -0.35, -0.23, -0.66, -0.46, -0.27, -0.74, -0.22, -0.06,\n",
       "       -1.1 , -1.37, -1.08,  0.6 , -1.17,  0.12, -0.18, -1.49, -0.57,\n",
       "       -0.42, -0.5 , -1.02, -1.26, -0.22, -0.36, -1.18, -0.41, -0.35,\n",
       "       -0.25, -0.99, -1.31, -0.5 , -0.52, -1.  , -0.77, -1.07, -0.65,\n",
       "       -0.19, -0.43, -0.93, -1.49, -0.51,  0.01, -0.42, -0.88, -0.47,\n",
       "       -0.6 , -0.17, -0.2 ,  0.23, -0.47, -0.98, -0.12, -0.4 , -0.65,\n",
       "       -0.53, -0.65, -0.7 , -1.1 , -0.54, -0.17, -0.53, -1.39, -0.71,\n",
       "       -0.02, -0.18, -0.32, -0.48, -1.98,  0.6 , -0.56, -0.56, -0.08,\n",
       "       -0.29, -0.94, -1.43, -1.58, -2.09,  0.09, -1.17, -0.14, -0.15,\n",
       "       -1.92, -0.59, -0.05, -0.43, -0.37, -1.63, -0.06, -0.36, -0.56,\n",
       "       -0.99, -1.12, -0.4 , -0.36,  0.47, -0.56, -0.05, -0.61, -1.26,\n",
       "       -0.43, -1.36,  0.24, -0.99, -1.97, -0.78, -0.24, -0.59, -1.27,\n",
       "       -0.78, -0.52, -1.45, -0.91, -1.15, -1.2 , -0.94,  0.08, -1.08,\n",
       "       -0.04, -0.46, -0.84,  0.29, -1.12, -1.34, -1.77, -1.19,  0.06,\n",
       "       -0.11, -0.57, -0.76, -0.68, -1.48, -1.45, -1.08, -0.19,  0.43,\n",
       "       -1.33, -1.17, -0.53, -1.33, -0.19, -0.89, -0.61, -0.46, -0.63,\n",
       "       -0.94,  0.52, -0.82, -1.45, -0.59, -1.47, -1.69, -0.28, -1.07,\n",
       "       -0.67, -1.64, -0.74, -0.55, -0.54, -0.74, -0.16, -1.15,  0.13,\n",
       "       -1.35, -0.21, -0.53, -0.45, -0.92, -0.02, -0.3 ,  0.63, -0.3 ,\n",
       "        0.54, -0.85, -1.36, -1.19, -0.52, -1.  , -1.39, -0.09, -1.4 ,\n",
       "       -0.31, -1.04, -0.7 , -1.72,  0.44, -0.52, -1.66, -1.54, -1.84,\n",
       "       -1.1 , -1.02,  0.18,  0.37, -0.44, -0.92, -1.41, -1.87, -0.77,\n",
       "       -0.56,  0.02, -1.05,  0.29, -0.64, -0.51,  0.36, -0.94, -0.33,\n",
       "       -0.76, -0.76, -1.  , -1.21, -1.18, -0.93, -0.95, -0.54, -0.31,\n",
       "       -0.23, -1.27, -1.47, -0.4 , -0.59, -0.8 , -0.36, -0.71, -0.57,\n",
       "       -2.25,  0.66, -1.  , -1.  , -0.86, -0.54, -1.07, -0.47,  0.27,\n",
       "        0.24, -1.03, -1.3 , -0.6 ,  0.26,  0.43, -0.36, -1.53,  0.16,\n",
       "       -1.  , -1.34, -0.44, -0.88,  0.23, -1.14, -0.96, -1.02,  0.47,\n",
       "       -0.66, -0.23, -0.36, -0.73, -1.86, -0.96, -0.11, -0.68, -0.56,\n",
       "       -1.58, -0.08, -0.32,  0.35,  0.09, -0.24, -0.11,  0.44, -0.46,\n",
       "        0.12, -1.07, -1.09, -1.01, -0.74, -0.21, -1.41, -0.25, -0.44,\n",
       "       -0.36,  0.01, -0.17, -0.23, -0.74, -0.2 ,  0.44,  0.16, -1.17,\n",
       "       -0.03, -0.47, -0.6 , -1.25,  0.03,  0.16, -0.75,  0.33, -0.19,\n",
       "       -0.89,  0.37, -0.25, -1.11, -0.8 ])"
      ]
     },
     "execution_count": 187,
     "metadata": {},
     "output_type": "execute_result"
    }
   ],
   "source": [
    "np.round(y_score,2)"
   ]
  },
  {
   "cell_type": "code",
   "execution_count": 190,
   "metadata": {
    "collapsed": false
   },
   "outputs": [],
   "source": [
    "plt.plot(fpr, tpr)\n",
    "plt.xlim([0.0, 1.0])\n",
    "plt.ylim([0.0,1.0])\n",
    "plt.rcParams['font.size'] = 12\n",
    "plt.title(\"ROC curve\")\n",
    "plt.xlabel(\"FPR (1 - Specificity)\")\n",
    "plt.ylabel(\"TPR (Sensitivity)\")\n",
    "plt.grid(True)"
   ]
  },
  {
   "cell_type": "code",
   "execution_count": 191,
   "metadata": {
    "collapsed": true
   },
   "outputs": [],
   "source": [
    "def evaluate_threshold(threshold):\n",
    "    print('TPR: ', tpr[thresholds > threshold][-1])\n",
    "    print(\"FPR: \", tpr[thresholds > threshold][-1])"
   ]
  },
  {
   "cell_type": "code",
   "execution_count": 193,
   "metadata": {
    "collapsed": false
   },
   "outputs": [
    {
     "name": "stdout",
     "output_type": "stream",
     "text": [
      "Threshold: -2.25267607105\n",
      "('TPR: ', 1.0)\n",
      "('FPR: ', 1.0)\n",
      "\n",
      "Threshold: -1.75267607105\n",
      "('TPR: ', 0.98615916955017302)\n",
      "('FPR: ', 0.98615916955017302)\n",
      "\n",
      "Threshold: -1.25267607105\n",
      "('TPR: ', 0.89965397923875434)\n",
      "('FPR: ', 0.89965397923875434)\n",
      "\n",
      "Threshold: -0.75267607105\n",
      "('TPR: ', 0.70242214532871972)\n",
      "('FPR: ', 0.70242214532871972)\n",
      "\n",
      "Threshold: -0.25267607105\n",
      "('TPR: ', 0.37024221453287198)\n",
      "('FPR: ', 0.37024221453287198)\n",
      "\n",
      "Threshold: 0.24732392895\n",
      "('TPR: ', 0.086505190311418678)\n",
      "('FPR: ', 0.086505190311418678)\n",
      "\n",
      "Threshold: 0.74732392895\n",
      "('TPR: ', 0.0)\n",
      "('FPR: ', 0.0)\n",
      "\n",
      "Threshold: 1.24732392895\n",
      "('TPR: ', 0.0)\n",
      "('FPR: ', 0.0)\n",
      "\n"
     ]
    }
   ],
   "source": [
    "for i in np.arange(min(thresholds), max(thresholds),0.5):\n",
    "    print(\"Threshold:\"),i\n",
    "    evaluate_threshold(i)\n",
    "    print"
   ]
  },
  {
   "cell_type": "code",
   "execution_count": null,
   "metadata": {
    "collapsed": true
   },
   "outputs": [],
   "source": []
  },
  {
   "cell_type": "code",
   "execution_count": null,
   "metadata": {
    "collapsed": true
   },
   "outputs": [],
   "source": []
  }
 ],
 "metadata": {
  "kernelspec": {
   "display_name": "Python [default]",
   "language": "python",
   "name": "python2"
  },
  "language_info": {
   "codemirror_mode": {
    "name": "ipython",
    "version": 2
   },
   "file_extension": ".py",
   "mimetype": "text/x-python",
   "name": "python",
   "nbconvert_exporter": "python",
   "pygments_lexer": "ipython2",
   "version": "2.7.12"
  }
 },
 "nbformat": 4,
 "nbformat_minor": 0
}
