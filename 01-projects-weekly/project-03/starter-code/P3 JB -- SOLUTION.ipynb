{
 "cells": [
  {
   "cell_type": "markdown",
   "metadata": {},
   "source": [
    "# Getting started\n",
    "\n",
    "Once you've chosen your scenario from the README, download the data from [the Iowa website](https://data.iowa.gov/Economy/Iowa-Liquor-Sales/m3tr-qhgy) in csv format. Start by loading the data with pandas. You may need to parse the date columns appropriately."
   ]
  },
  {
   "cell_type": "markdown",
   "metadata": {},
   "source": [
    "## Scenario and Problem Statement"
   ]
  },
  {
   "cell_type": "markdown",
   "metadata": {},
   "source": []
  },
  {
   "cell_type": "code",
   "execution_count": 83,
   "metadata": {
    "collapsed": false
   },
   "outputs": [],
   "source": [
    "% matplotlib inline\n",
    "import datetime\n",
    "import numpy as np\n",
    "import pandas as pd\n",
    "import seaborn as sns"
   ]
  },
  {
   "cell_type": "code",
   "execution_count": 84,
   "metadata": {
    "collapsed": false
   },
   "outputs": [],
   "source": [
    "# Load the data\n",
    "df = pd.read_csv(\"../assets/Iowa_Liquor_sales_sample_10pct.csv\")"
   ]
  },
  {
   "cell_type": "code",
   "execution_count": 85,
   "metadata": {
    "collapsed": false
   },
   "outputs": [
    {
     "data": {
      "text/html": [
       "<div>\n",
       "<table border=\"1\" class=\"dataframe\">\n",
       "  <thead>\n",
       "    <tr style=\"text-align: right;\">\n",
       "      <th></th>\n",
       "      <th>Date</th>\n",
       "      <th>Store Number</th>\n",
       "      <th>City</th>\n",
       "      <th>Zip Code</th>\n",
       "      <th>County Number</th>\n",
       "      <th>County</th>\n",
       "      <th>Category</th>\n",
       "      <th>Category Name</th>\n",
       "      <th>Vendor Number</th>\n",
       "      <th>Item Number</th>\n",
       "      <th>Item Description</th>\n",
       "      <th>Bottle Volume (ml)</th>\n",
       "      <th>State Bottle Cost</th>\n",
       "      <th>State Bottle Retail</th>\n",
       "      <th>Bottles Sold</th>\n",
       "      <th>Sale (Dollars)</th>\n",
       "      <th>Volume Sold (Liters)</th>\n",
       "      <th>Volume Sold (Gallons)</th>\n",
       "    </tr>\n",
       "  </thead>\n",
       "  <tbody>\n",
       "    <tr>\n",
       "      <th>0</th>\n",
       "      <td>11/04/2015</td>\n",
       "      <td>3717</td>\n",
       "      <td>SUMNER</td>\n",
       "      <td>50674</td>\n",
       "      <td>9.0</td>\n",
       "      <td>Bremer</td>\n",
       "      <td>1051100.0</td>\n",
       "      <td>APRICOT BRANDIES</td>\n",
       "      <td>55</td>\n",
       "      <td>54436</td>\n",
       "      <td>Mr. Boston Apricot Brandy</td>\n",
       "      <td>750</td>\n",
       "      <td>$4.50</td>\n",
       "      <td>$6.75</td>\n",
       "      <td>12</td>\n",
       "      <td>$81.00</td>\n",
       "      <td>9.0</td>\n",
       "      <td>2.38</td>\n",
       "    </tr>\n",
       "    <tr>\n",
       "      <th>1</th>\n",
       "      <td>03/02/2016</td>\n",
       "      <td>2614</td>\n",
       "      <td>DAVENPORT</td>\n",
       "      <td>52807</td>\n",
       "      <td>82.0</td>\n",
       "      <td>Scott</td>\n",
       "      <td>1011100.0</td>\n",
       "      <td>BLENDED WHISKIES</td>\n",
       "      <td>395</td>\n",
       "      <td>27605</td>\n",
       "      <td>Tin Cup</td>\n",
       "      <td>750</td>\n",
       "      <td>$13.75</td>\n",
       "      <td>$20.63</td>\n",
       "      <td>2</td>\n",
       "      <td>$41.26</td>\n",
       "      <td>1.5</td>\n",
       "      <td>0.40</td>\n",
       "    </tr>\n",
       "    <tr>\n",
       "      <th>2</th>\n",
       "      <td>02/11/2016</td>\n",
       "      <td>2106</td>\n",
       "      <td>CEDAR FALLS</td>\n",
       "      <td>50613</td>\n",
       "      <td>7.0</td>\n",
       "      <td>Black Hawk</td>\n",
       "      <td>1011200.0</td>\n",
       "      <td>STRAIGHT BOURBON WHISKIES</td>\n",
       "      <td>65</td>\n",
       "      <td>19067</td>\n",
       "      <td>Jim Beam</td>\n",
       "      <td>1000</td>\n",
       "      <td>$12.59</td>\n",
       "      <td>$18.89</td>\n",
       "      <td>24</td>\n",
       "      <td>$453.36</td>\n",
       "      <td>24.0</td>\n",
       "      <td>6.34</td>\n",
       "    </tr>\n",
       "    <tr>\n",
       "      <th>3</th>\n",
       "      <td>02/03/2016</td>\n",
       "      <td>2501</td>\n",
       "      <td>AMES</td>\n",
       "      <td>50010</td>\n",
       "      <td>85.0</td>\n",
       "      <td>Story</td>\n",
       "      <td>1071100.0</td>\n",
       "      <td>AMERICAN COCKTAILS</td>\n",
       "      <td>395</td>\n",
       "      <td>59154</td>\n",
       "      <td>1800 Ultimate Margarita</td>\n",
       "      <td>1750</td>\n",
       "      <td>$9.50</td>\n",
       "      <td>$14.25</td>\n",
       "      <td>6</td>\n",
       "      <td>$85.50</td>\n",
       "      <td>10.5</td>\n",
       "      <td>2.77</td>\n",
       "    </tr>\n",
       "    <tr>\n",
       "      <th>4</th>\n",
       "      <td>08/18/2015</td>\n",
       "      <td>3654</td>\n",
       "      <td>BELMOND</td>\n",
       "      <td>50421</td>\n",
       "      <td>99.0</td>\n",
       "      <td>Wright</td>\n",
       "      <td>1031080.0</td>\n",
       "      <td>VODKA 80 PROOF</td>\n",
       "      <td>297</td>\n",
       "      <td>35918</td>\n",
       "      <td>Five O'clock Vodka</td>\n",
       "      <td>1750</td>\n",
       "      <td>$7.20</td>\n",
       "      <td>$10.80</td>\n",
       "      <td>12</td>\n",
       "      <td>$129.60</td>\n",
       "      <td>21.0</td>\n",
       "      <td>5.55</td>\n",
       "    </tr>\n",
       "  </tbody>\n",
       "</table>\n",
       "</div>"
      ],
      "text/plain": [
       "         Date  Store Number         City Zip Code  County Number      County  \\\n",
       "0  11/04/2015          3717       SUMNER    50674            9.0      Bremer   \n",
       "1  03/02/2016          2614    DAVENPORT    52807           82.0       Scott   \n",
       "2  02/11/2016          2106  CEDAR FALLS    50613            7.0  Black Hawk   \n",
       "3  02/03/2016          2501         AMES    50010           85.0       Story   \n",
       "4  08/18/2015          3654      BELMOND    50421           99.0      Wright   \n",
       "\n",
       "    Category              Category Name  Vendor Number  Item Number  \\\n",
       "0  1051100.0           APRICOT BRANDIES             55        54436   \n",
       "1  1011100.0           BLENDED WHISKIES            395        27605   \n",
       "2  1011200.0  STRAIGHT BOURBON WHISKIES             65        19067   \n",
       "3  1071100.0         AMERICAN COCKTAILS            395        59154   \n",
       "4  1031080.0             VODKA 80 PROOF            297        35918   \n",
       "\n",
       "            Item Description  Bottle Volume (ml) State Bottle Cost  \\\n",
       "0  Mr. Boston Apricot Brandy                 750             $4.50   \n",
       "1                    Tin Cup                 750            $13.75   \n",
       "2                   Jim Beam                1000            $12.59   \n",
       "3    1800 Ultimate Margarita                1750             $9.50   \n",
       "4         Five O'clock Vodka                1750             $7.20   \n",
       "\n",
       "  State Bottle Retail  Bottles Sold Sale (Dollars)  Volume Sold (Liters)  \\\n",
       "0               $6.75            12         $81.00                   9.0   \n",
       "1              $20.63             2         $41.26                   1.5   \n",
       "2              $18.89            24        $453.36                  24.0   \n",
       "3              $14.25             6         $85.50                  10.5   \n",
       "4              $10.80            12        $129.60                  21.0   \n",
       "\n",
       "   Volume Sold (Gallons)  \n",
       "0                   2.38  \n",
       "1                   0.40  \n",
       "2                   6.34  \n",
       "3                   2.77  \n",
       "4                   5.55  "
      ]
     },
     "execution_count": 85,
     "metadata": {},
     "output_type": "execute_result"
    }
   ],
   "source": [
    "# Initial Look at dataset\n",
    "df.head()\n"
   ]
  },
  {
   "cell_type": "code",
   "execution_count": 86,
   "metadata": {
    "collapsed": false
   },
   "outputs": [
    {
     "data": {
      "text/plain": [
       "Date                     270955\n",
       "Store Number             270955\n",
       "City                     270955\n",
       "Zip Code                 270955\n",
       "County Number            269878\n",
       "County                   269878\n",
       "Category                 270887\n",
       "Category Name            270323\n",
       "Vendor Number            270955\n",
       "Item Number              270955\n",
       "Item Description         270955\n",
       "Bottle Volume (ml)       270955\n",
       "State Bottle Cost        270955\n",
       "State Bottle Retail      270955\n",
       "Bottles Sold             270955\n",
       "Sale (Dollars)           270955\n",
       "Volume Sold (Liters)     270955\n",
       "Volume Sold (Gallons)    270955\n",
       "dtype: int64"
      ]
     },
     "execution_count": 86,
     "metadata": {},
     "output_type": "execute_result"
    }
   ],
   "source": [
    "df.count()"
   ]
  },
  {
   "cell_type": "code",
   "execution_count": 87,
   "metadata": {
    "collapsed": false
   },
   "outputs": [
    {
     "name": "stderr",
     "output_type": "stream",
     "text": [
      "/Users/macuser/anaconda/lib/python2.7/site-packages/ipykernel/__main__.py:3: SettingWithCopyWarning: \n",
      "A value is trying to be set on a copy of a slice from a DataFrame\n",
      "\n",
      "See the caveats in the documentation: http://pandas.pydata.org/pandas-docs/stable/indexing.html#indexing-view-versus-copy\n",
      "  app.launch_new_instance()\n"
     ]
    },
    {
     "data": {
      "text/html": [
       "<div>\n",
       "<table border=\"1\" class=\"dataframe\">\n",
       "  <thead>\n",
       "    <tr style=\"text-align: right;\">\n",
       "      <th></th>\n",
       "      <th>Date</th>\n",
       "      <th>Store_Number</th>\n",
       "      <th>County</th>\n",
       "      <th>City</th>\n",
       "      <th>Zip_Code</th>\n",
       "      <th>County_Number</th>\n",
       "      <th>State_Bottle_Cost</th>\n",
       "      <th>State_Bottle_Retail</th>\n",
       "      <th>Bottles_Sold</th>\n",
       "      <th>Sale_Dollars</th>\n",
       "      <th>Bottle_Volume_ml</th>\n",
       "      <th>Volume_Sold_Liters</th>\n",
       "    </tr>\n",
       "  </thead>\n",
       "  <tbody>\n",
       "    <tr>\n",
       "      <th>0</th>\n",
       "      <td>11/04/2015</td>\n",
       "      <td>3717</td>\n",
       "      <td>Bremer</td>\n",
       "      <td>SUMNER</td>\n",
       "      <td>50674</td>\n",
       "      <td>9.0</td>\n",
       "      <td>$4.50</td>\n",
       "      <td>$6.75</td>\n",
       "      <td>12</td>\n",
       "      <td>$81.00</td>\n",
       "      <td>750</td>\n",
       "      <td>9.0</td>\n",
       "    </tr>\n",
       "    <tr>\n",
       "      <th>1</th>\n",
       "      <td>03/02/2016</td>\n",
       "      <td>2614</td>\n",
       "      <td>Scott</td>\n",
       "      <td>DAVENPORT</td>\n",
       "      <td>52807</td>\n",
       "      <td>82.0</td>\n",
       "      <td>$13.75</td>\n",
       "      <td>$20.63</td>\n",
       "      <td>2</td>\n",
       "      <td>$41.26</td>\n",
       "      <td>750</td>\n",
       "      <td>1.5</td>\n",
       "    </tr>\n",
       "    <tr>\n",
       "      <th>2</th>\n",
       "      <td>02/11/2016</td>\n",
       "      <td>2106</td>\n",
       "      <td>Black Hawk</td>\n",
       "      <td>CEDAR FALLS</td>\n",
       "      <td>50613</td>\n",
       "      <td>7.0</td>\n",
       "      <td>$12.59</td>\n",
       "      <td>$18.89</td>\n",
       "      <td>24</td>\n",
       "      <td>$453.36</td>\n",
       "      <td>1000</td>\n",
       "      <td>24.0</td>\n",
       "    </tr>\n",
       "    <tr>\n",
       "      <th>3</th>\n",
       "      <td>02/03/2016</td>\n",
       "      <td>2501</td>\n",
       "      <td>Story</td>\n",
       "      <td>AMES</td>\n",
       "      <td>50010</td>\n",
       "      <td>85.0</td>\n",
       "      <td>$9.50</td>\n",
       "      <td>$14.25</td>\n",
       "      <td>6</td>\n",
       "      <td>$85.50</td>\n",
       "      <td>1750</td>\n",
       "      <td>10.5</td>\n",
       "    </tr>\n",
       "    <tr>\n",
       "      <th>4</th>\n",
       "      <td>08/18/2015</td>\n",
       "      <td>3654</td>\n",
       "      <td>Wright</td>\n",
       "      <td>BELMOND</td>\n",
       "      <td>50421</td>\n",
       "      <td>99.0</td>\n",
       "      <td>$7.20</td>\n",
       "      <td>$10.80</td>\n",
       "      <td>12</td>\n",
       "      <td>$129.60</td>\n",
       "      <td>1750</td>\n",
       "      <td>21.0</td>\n",
       "    </tr>\n",
       "  </tbody>\n",
       "</table>\n",
       "</div>"
      ],
      "text/plain": [
       "         Date  Store_Number      County         City Zip_Code  County_Number  \\\n",
       "0  11/04/2015          3717      Bremer       SUMNER    50674            9.0   \n",
       "1  03/02/2016          2614       Scott    DAVENPORT    52807           82.0   \n",
       "2  02/11/2016          2106  Black Hawk  CEDAR FALLS    50613            7.0   \n",
       "3  02/03/2016          2501       Story         AMES    50010           85.0   \n",
       "4  08/18/2015          3654      Wright      BELMOND    50421           99.0   \n",
       "\n",
       "  State_Bottle_Cost State_Bottle_Retail  Bottles_Sold Sale_Dollars  \\\n",
       "0             $4.50               $6.75            12       $81.00   \n",
       "1            $13.75              $20.63             2       $41.26   \n",
       "2            $12.59              $18.89            24      $453.36   \n",
       "3             $9.50              $14.25             6       $85.50   \n",
       "4             $7.20              $10.80            12      $129.60   \n",
       "\n",
       "   Bottle_Volume_ml  Volume_Sold_Liters  \n",
       "0               750                 9.0  \n",
       "1               750                 1.5  \n",
       "2              1000                24.0  \n",
       "3              1750                10.5  \n",
       "4              1750                21.0  "
      ]
     },
     "execution_count": 87,
     "metadata": {},
     "output_type": "execute_result"
    }
   ],
   "source": [
    "# Remove redundant columns\n",
    "dfn = df.dropna()\n",
    "dfn.drop([\"Category\",\"Category Name\",\"Vendor Number\",\"Item Number\",\"Item Description\", \"Volume Sold (Gallons)\"], axis=1, inplace=True)\n",
    "# Rename columns\n",
    "# Remove the spaces and () from headers replacing spaces with underscores\n",
    "dfn.rename(columns = lambda head: head.replace(\" \",\"_\"), inplace=True)\n",
    "dfn.rename(columns = lambda head: head.replace(\"(\",\"\"), inplace=True)\n",
    "dfn.rename(columns = lambda head: head.replace(\")\",\"\"), inplace=True)\n",
    "\n",
    "cols = [\"Date\",\"Store_Number\",\"County\", \"City\", \"Zip_Code\",\"County_Number\", \"State_Bottle_Cost\", \"State_Bottle_Retail\", \"Bottles_Sold\",\"Sale_Dollars\",\"Bottle_Volume_ml\", \"Volume_Sold_Liters\"]\n",
    "dfn = dfn[cols]\n",
    "dfn.head()"
   ]
  },
  {
   "cell_type": "code",
   "execution_count": 88,
   "metadata": {
    "collapsed": false
   },
   "outputs": [
    {
     "data": {
      "text/html": [
       "<div>\n",
       "<table border=\"1\" class=\"dataframe\">\n",
       "  <thead>\n",
       "    <tr style=\"text-align: right;\">\n",
       "      <th></th>\n",
       "      <th>Date</th>\n",
       "      <th>Store_Number</th>\n",
       "      <th>County</th>\n",
       "      <th>City</th>\n",
       "      <th>Zip_Code</th>\n",
       "      <th>County_Number</th>\n",
       "      <th>State_Bottle_Cost</th>\n",
       "      <th>State_Bottle_Retail</th>\n",
       "      <th>Bottles_Sold</th>\n",
       "      <th>Sale_Dollars</th>\n",
       "      <th>Bottle_Volume_ml</th>\n",
       "      <th>Volume_Sold_Liters</th>\n",
       "    </tr>\n",
       "  </thead>\n",
       "  <tbody>\n",
       "    <tr>\n",
       "      <th>0</th>\n",
       "      <td>11/04/2015</td>\n",
       "      <td>3717</td>\n",
       "      <td>Bremer</td>\n",
       "      <td>SUMNER</td>\n",
       "      <td>50674</td>\n",
       "      <td>9.0</td>\n",
       "      <td>4.50</td>\n",
       "      <td>6.75</td>\n",
       "      <td>12</td>\n",
       "      <td>81.00</td>\n",
       "      <td>750</td>\n",
       "      <td>9.0</td>\n",
       "    </tr>\n",
       "    <tr>\n",
       "      <th>1</th>\n",
       "      <td>03/02/2016</td>\n",
       "      <td>2614</td>\n",
       "      <td>Scott</td>\n",
       "      <td>DAVENPORT</td>\n",
       "      <td>52807</td>\n",
       "      <td>82.0</td>\n",
       "      <td>13.75</td>\n",
       "      <td>20.63</td>\n",
       "      <td>2</td>\n",
       "      <td>41.26</td>\n",
       "      <td>750</td>\n",
       "      <td>1.5</td>\n",
       "    </tr>\n",
       "    <tr>\n",
       "      <th>2</th>\n",
       "      <td>02/11/2016</td>\n",
       "      <td>2106</td>\n",
       "      <td>Black Hawk</td>\n",
       "      <td>CEDAR FALLS</td>\n",
       "      <td>50613</td>\n",
       "      <td>7.0</td>\n",
       "      <td>12.59</td>\n",
       "      <td>18.89</td>\n",
       "      <td>24</td>\n",
       "      <td>453.36</td>\n",
       "      <td>1000</td>\n",
       "      <td>24.0</td>\n",
       "    </tr>\n",
       "    <tr>\n",
       "      <th>3</th>\n",
       "      <td>02/03/2016</td>\n",
       "      <td>2501</td>\n",
       "      <td>Story</td>\n",
       "      <td>AMES</td>\n",
       "      <td>50010</td>\n",
       "      <td>85.0</td>\n",
       "      <td>9.50</td>\n",
       "      <td>14.25</td>\n",
       "      <td>6</td>\n",
       "      <td>85.50</td>\n",
       "      <td>1750</td>\n",
       "      <td>10.5</td>\n",
       "    </tr>\n",
       "    <tr>\n",
       "      <th>4</th>\n",
       "      <td>08/18/2015</td>\n",
       "      <td>3654</td>\n",
       "      <td>Wright</td>\n",
       "      <td>BELMOND</td>\n",
       "      <td>50421</td>\n",
       "      <td>99.0</td>\n",
       "      <td>7.20</td>\n",
       "      <td>10.80</td>\n",
       "      <td>12</td>\n",
       "      <td>129.60</td>\n",
       "      <td>1750</td>\n",
       "      <td>21.0</td>\n",
       "    </tr>\n",
       "  </tbody>\n",
       "</table>\n",
       "</div>"
      ],
      "text/plain": [
       "         Date  Store_Number      County         City Zip_Code  County_Number  \\\n",
       "0  11/04/2015          3717      Bremer       SUMNER    50674            9.0   \n",
       "1  03/02/2016          2614       Scott    DAVENPORT    52807           82.0   \n",
       "2  02/11/2016          2106  Black Hawk  CEDAR FALLS    50613            7.0   \n",
       "3  02/03/2016          2501       Story         AMES    50010           85.0   \n",
       "4  08/18/2015          3654      Wright      BELMOND    50421           99.0   \n",
       "\n",
       "   State_Bottle_Cost  State_Bottle_Retail  Bottles_Sold  Sale_Dollars  \\\n",
       "0               4.50                 6.75            12         81.00   \n",
       "1              13.75                20.63             2         41.26   \n",
       "2              12.59                18.89            24        453.36   \n",
       "3               9.50                14.25             6         85.50   \n",
       "4               7.20                10.80            12        129.60   \n",
       "\n",
       "   Bottle_Volume_ml  Volume_Sold_Liters  \n",
       "0               750                 9.0  \n",
       "1               750                 1.5  \n",
       "2              1000                24.0  \n",
       "3              1750                10.5  \n",
       "4              1750                21.0  "
      ]
     },
     "execution_count": 88,
     "metadata": {},
     "output_type": "execute_result"
    }
   ],
   "source": [
    "# Remove $ from certain columns\n",
    "# strip method to remove $\n",
    "dfn[\"Sale_Dollars\"] = [ x.strip(\"$\") for x in dfn[\"Sale_Dollars\"]]\n",
    "# change values to float\n",
    "dfn[\"Sale_Dollars\"] = [float(x) for x in dfn[\"Sale_Dollars\"]]\n",
    "dfn[\"State_Bottle_Cost\"] = [ x.strip(\"$\") for x in dfn[\"State_Bottle_Cost\"] ]\n",
    "dfn[\"State_Bottle_Cost\"] = [float(x) for x in dfn[\"State_Bottle_Cost\"]]\n",
    "dfn[\"State_Bottle_Retail\"] = [ x.strip(\"$\") for x in dfn[\"State_Bottle_Retail\"] ]\n",
    "dfn[\"State_Bottle_Retail\"] = [float(x) for x in dfn[\"State_Bottle_Retail\"]]\n",
    "dfn.head()"
   ]
  },
  {
   "cell_type": "code",
   "execution_count": 89,
   "metadata": {
    "collapsed": false
   },
   "outputs": [
    {
     "data": {
      "text/plain": [
       "Date                   datetime64[ns]\n",
       "Store_Number                    int64\n",
       "County                         object\n",
       "City                           object\n",
       "Zip_Code                       object\n",
       "County_Number                 float64\n",
       "State_Bottle_Cost             float64\n",
       "State_Bottle_Retail           float64\n",
       "Bottles_Sold                    int64\n",
       "Sale_Dollars                  float64\n",
       "Bottle_Volume_ml                int64\n",
       "Volume_Sold_Liters            float64\n",
       "dtype: object"
      ]
     },
     "execution_count": 89,
     "metadata": {},
     "output_type": "execute_result"
    }
   ],
   "source": [
    "# Convert dates\n",
    "dfn[\"Date\"] = pd.to_datetime(dfn[\"Date\"])\n",
    "dfn.dtypes"
   ]
  },
  {
   "cell_type": "code",
   "execution_count": 158,
   "metadata": {
    "collapsed": false
   },
   "outputs": [],
   "source": [
    "#Drop or replace bad values\n",
    "# Convert integers\n",
    "dfn[\"County_Number\"] = [int(cnum) for cnum in dfn[\"County_Number\"]]\n",
    "\n",
    "# Convert from integers\n",
    "\n"
   ]
  },
  {
   "cell_type": "code",
   "execution_count": 159,
   "metadata": {
    "collapsed": false
   },
   "outputs": [
    {
     "data": {
      "text/html": [
       "<div>\n",
       "<table border=\"1\" class=\"dataframe\">\n",
       "  <thead>\n",
       "    <tr style=\"text-align: right;\">\n",
       "      <th></th>\n",
       "      <th>Date</th>\n",
       "      <th>Store_Number</th>\n",
       "      <th>County</th>\n",
       "      <th>City</th>\n",
       "      <th>Zip_Code</th>\n",
       "      <th>County_Number</th>\n",
       "      <th>State_Bottle_Cost</th>\n",
       "      <th>State_Bottle_Retail</th>\n",
       "      <th>Bottles_Sold</th>\n",
       "      <th>Sale_Dollars</th>\n",
       "      <th>Bottle_Volume_ml</th>\n",
       "      <th>Volume_Sold_Liters</th>\n",
       "      <th>Margin</th>\n",
       "      <th>Price_per_Liter</th>\n",
       "    </tr>\n",
       "  </thead>\n",
       "  <tbody>\n",
       "    <tr>\n",
       "      <th>22111</th>\n",
       "      <td>2015-01-08</td>\n",
       "      <td>2106</td>\n",
       "      <td>Black Hawk</td>\n",
       "      <td>CEDAR FALLS</td>\n",
       "      <td>50613</td>\n",
       "      <td>7</td>\n",
       "      <td>9.50</td>\n",
       "      <td>14.25</td>\n",
       "      <td>36</td>\n",
       "      <td>513.00</td>\n",
       "      <td>1000</td>\n",
       "      <td>36.0</td>\n",
       "      <td>4.75</td>\n",
       "      <td>14.25</td>\n",
       "    </tr>\n",
       "    <tr>\n",
       "      <th>47659</th>\n",
       "      <td>2015-01-08</td>\n",
       "      <td>2106</td>\n",
       "      <td>Black Hawk</td>\n",
       "      <td>CEDAR FALLS</td>\n",
       "      <td>50613</td>\n",
       "      <td>7</td>\n",
       "      <td>27.00</td>\n",
       "      <td>40.50</td>\n",
       "      <td>12</td>\n",
       "      <td>486.00</td>\n",
       "      <td>750</td>\n",
       "      <td>9.0</td>\n",
       "      <td>13.50</td>\n",
       "      <td>54.00</td>\n",
       "    </tr>\n",
       "    <tr>\n",
       "      <th>65214</th>\n",
       "      <td>2015-01-08</td>\n",
       "      <td>2106</td>\n",
       "      <td>Black Hawk</td>\n",
       "      <td>CEDAR FALLS</td>\n",
       "      <td>50613</td>\n",
       "      <td>7</td>\n",
       "      <td>5.78</td>\n",
       "      <td>8.67</td>\n",
       "      <td>12</td>\n",
       "      <td>104.04</td>\n",
       "      <td>750</td>\n",
       "      <td>9.0</td>\n",
       "      <td>2.89</td>\n",
       "      <td>11.56</td>\n",
       "    </tr>\n",
       "    <tr>\n",
       "      <th>66346</th>\n",
       "      <td>2015-01-08</td>\n",
       "      <td>2106</td>\n",
       "      <td>Black Hawk</td>\n",
       "      <td>CEDAR FALLS</td>\n",
       "      <td>50613</td>\n",
       "      <td>7</td>\n",
       "      <td>12.50</td>\n",
       "      <td>18.75</td>\n",
       "      <td>12</td>\n",
       "      <td>225.00</td>\n",
       "      <td>750</td>\n",
       "      <td>9.0</td>\n",
       "      <td>6.25</td>\n",
       "      <td>25.00</td>\n",
       "    </tr>\n",
       "    <tr>\n",
       "      <th>80570</th>\n",
       "      <td>2015-01-08</td>\n",
       "      <td>2106</td>\n",
       "      <td>Black Hawk</td>\n",
       "      <td>CEDAR FALLS</td>\n",
       "      <td>50613</td>\n",
       "      <td>7</td>\n",
       "      <td>4.34</td>\n",
       "      <td>6.51</td>\n",
       "      <td>12</td>\n",
       "      <td>78.12</td>\n",
       "      <td>1000</td>\n",
       "      <td>12.0</td>\n",
       "      <td>2.17</td>\n",
       "      <td>6.51</td>\n",
       "    </tr>\n",
       "  </tbody>\n",
       "</table>\n",
       "</div>"
      ],
      "text/plain": [
       "            Date  Store_Number      County         City Zip_Code  \\\n",
       "22111 2015-01-08          2106  Black Hawk  CEDAR FALLS    50613   \n",
       "47659 2015-01-08          2106  Black Hawk  CEDAR FALLS    50613   \n",
       "65214 2015-01-08          2106  Black Hawk  CEDAR FALLS    50613   \n",
       "66346 2015-01-08          2106  Black Hawk  CEDAR FALLS    50613   \n",
       "80570 2015-01-08          2106  Black Hawk  CEDAR FALLS    50613   \n",
       "\n",
       "       County_Number  State_Bottle_Cost  State_Bottle_Retail  Bottles_Sold  \\\n",
       "22111              7               9.50                14.25            36   \n",
       "47659              7              27.00                40.50            12   \n",
       "65214              7               5.78                 8.67            12   \n",
       "66346              7              12.50                18.75            12   \n",
       "80570              7               4.34                 6.51            12   \n",
       "\n",
       "       Sale_Dollars  Bottle_Volume_ml  Volume_Sold_Liters  Margin  \\\n",
       "22111        513.00              1000                36.0    4.75   \n",
       "47659        486.00               750                 9.0   13.50   \n",
       "65214        104.04               750                 9.0    2.89   \n",
       "66346        225.00               750                 9.0    6.25   \n",
       "80570         78.12              1000                12.0    2.17   \n",
       "\n",
       "       Price_per_Liter  \n",
       "22111            14.25  \n",
       "47659            54.00  \n",
       "65214            11.56  \n",
       "66346            25.00  \n",
       "80570             6.51  "
      ]
     },
     "execution_count": 159,
     "metadata": {},
     "output_type": "execute_result"
    }
   ],
   "source": [
    "dfn.head()"
   ]
  },
  {
   "cell_type": "markdown",
   "metadata": {},
   "source": [
    "## Explore the data\n",
    "\n",
    "Perform EDA and Viz, such as histograms of transaction totals, bottles sold, etc."
   ]
  },
  {
   "cell_type": "code",
   "execution_count": 160,
   "metadata": {
    "collapsed": true
   },
   "outputs": [],
   "source": [
    "import seaborn as sns\n",
    "import matplotlib.pyplot as plt"
   ]
  },
  {
   "cell_type": "code",
   "execution_count": 161,
   "metadata": {
    "collapsed": false
   },
   "outputs": [
    {
     "data": {
      "text/plain": [
       "Date                   0\n",
       "Store_Number           0\n",
       "County                 0\n",
       "City                   0\n",
       "Zip_Code               0\n",
       "County_Number          0\n",
       "State_Bottle_Cost      0\n",
       "State_Bottle_Retail    0\n",
       "Bottles_Sold           0\n",
       "Sale_Dollars           0\n",
       "Bottle_Volume_ml       0\n",
       "Volume_Sold_Liters     0\n",
       "Margin                 0\n",
       "Price_per_Liter        0\n",
       "dtype: int64"
      ]
     },
     "execution_count": 161,
     "metadata": {},
     "output_type": "execute_result"
    }
   ],
   "source": [
    "# Determine which stores were open all of 2015\n",
    "# Find the first and last sales date.\n",
    "\n",
    "#First Date 1/5/2015 \n",
    "#dfn.sort_values(by=\"Date\").head()\n",
    "\n",
    "#Last Date 3/31/2016 \n",
    "#dfn.sort_values(by=\"Date\").tail()\n",
    "\n",
    "# Filter out stores that opened or closed throughout the year\n",
    "# removed during drop.na from dataframe\n",
    "dfn.isnull().sum()\n",
    "\n",
    "# You may want to save this step until you start modelling"
   ]
  },
  {
   "cell_type": "code",
   "execution_count": 162,
   "metadata": {
    "collapsed": false
   },
   "outputs": [
    {
     "data": {
      "text/html": [
       "<div>\n",
       "<table border=\"1\" class=\"dataframe\">\n",
       "  <thead>\n",
       "    <tr style=\"text-align: right;\">\n",
       "      <th></th>\n",
       "      <th>Date</th>\n",
       "      <th>Store_Number</th>\n",
       "      <th>County</th>\n",
       "      <th>City</th>\n",
       "      <th>Zip_Code</th>\n",
       "      <th>County_Number</th>\n",
       "      <th>State_Bottle_Cost</th>\n",
       "      <th>State_Bottle_Retail</th>\n",
       "      <th>Bottles_Sold</th>\n",
       "      <th>Sale_Dollars</th>\n",
       "      <th>Bottle_Volume_ml</th>\n",
       "      <th>Volume_Sold_Liters</th>\n",
       "      <th>Margin</th>\n",
       "      <th>Price_per_Liter</th>\n",
       "    </tr>\n",
       "  </thead>\n",
       "  <tbody>\n",
       "    <tr>\n",
       "      <th>22111</th>\n",
       "      <td>2015-01-08</td>\n",
       "      <td>2106</td>\n",
       "      <td>Black Hawk</td>\n",
       "      <td>CEDAR FALLS</td>\n",
       "      <td>50613</td>\n",
       "      <td>7</td>\n",
       "      <td>9.50</td>\n",
       "      <td>14.25</td>\n",
       "      <td>36</td>\n",
       "      <td>513.00</td>\n",
       "      <td>1000</td>\n",
       "      <td>36.0</td>\n",
       "      <td>4.75</td>\n",
       "      <td>14.25</td>\n",
       "    </tr>\n",
       "    <tr>\n",
       "      <th>47659</th>\n",
       "      <td>2015-01-08</td>\n",
       "      <td>2106</td>\n",
       "      <td>Black Hawk</td>\n",
       "      <td>CEDAR FALLS</td>\n",
       "      <td>50613</td>\n",
       "      <td>7</td>\n",
       "      <td>27.00</td>\n",
       "      <td>40.50</td>\n",
       "      <td>12</td>\n",
       "      <td>486.00</td>\n",
       "      <td>750</td>\n",
       "      <td>9.0</td>\n",
       "      <td>13.50</td>\n",
       "      <td>54.00</td>\n",
       "    </tr>\n",
       "    <tr>\n",
       "      <th>65214</th>\n",
       "      <td>2015-01-08</td>\n",
       "      <td>2106</td>\n",
       "      <td>Black Hawk</td>\n",
       "      <td>CEDAR FALLS</td>\n",
       "      <td>50613</td>\n",
       "      <td>7</td>\n",
       "      <td>5.78</td>\n",
       "      <td>8.67</td>\n",
       "      <td>12</td>\n",
       "      <td>104.04</td>\n",
       "      <td>750</td>\n",
       "      <td>9.0</td>\n",
       "      <td>2.89</td>\n",
       "      <td>11.56</td>\n",
       "    </tr>\n",
       "    <tr>\n",
       "      <th>66346</th>\n",
       "      <td>2015-01-08</td>\n",
       "      <td>2106</td>\n",
       "      <td>Black Hawk</td>\n",
       "      <td>CEDAR FALLS</td>\n",
       "      <td>50613</td>\n",
       "      <td>7</td>\n",
       "      <td>12.50</td>\n",
       "      <td>18.75</td>\n",
       "      <td>12</td>\n",
       "      <td>225.00</td>\n",
       "      <td>750</td>\n",
       "      <td>9.0</td>\n",
       "      <td>6.25</td>\n",
       "      <td>25.00</td>\n",
       "    </tr>\n",
       "    <tr>\n",
       "      <th>80570</th>\n",
       "      <td>2015-01-08</td>\n",
       "      <td>2106</td>\n",
       "      <td>Black Hawk</td>\n",
       "      <td>CEDAR FALLS</td>\n",
       "      <td>50613</td>\n",
       "      <td>7</td>\n",
       "      <td>4.34</td>\n",
       "      <td>6.51</td>\n",
       "      <td>12</td>\n",
       "      <td>78.12</td>\n",
       "      <td>1000</td>\n",
       "      <td>12.0</td>\n",
       "      <td>2.17</td>\n",
       "      <td>6.51</td>\n",
       "    </tr>\n",
       "  </tbody>\n",
       "</table>\n",
       "</div>"
      ],
      "text/plain": [
       "            Date  Store_Number      County         City Zip_Code  \\\n",
       "22111 2015-01-08          2106  Black Hawk  CEDAR FALLS    50613   \n",
       "47659 2015-01-08          2106  Black Hawk  CEDAR FALLS    50613   \n",
       "65214 2015-01-08          2106  Black Hawk  CEDAR FALLS    50613   \n",
       "66346 2015-01-08          2106  Black Hawk  CEDAR FALLS    50613   \n",
       "80570 2015-01-08          2106  Black Hawk  CEDAR FALLS    50613   \n",
       "\n",
       "       County_Number  State_Bottle_Cost  State_Bottle_Retail  Bottles_Sold  \\\n",
       "22111              7               9.50                14.25            36   \n",
       "47659              7              27.00                40.50            12   \n",
       "65214              7               5.78                 8.67            12   \n",
       "66346              7              12.50                18.75            12   \n",
       "80570              7               4.34                 6.51            12   \n",
       "\n",
       "       Sale_Dollars  Bottle_Volume_ml  Volume_Sold_Liters  Margin  \\\n",
       "22111        513.00              1000                36.0    4.75   \n",
       "47659        486.00               750                 9.0   13.50   \n",
       "65214        104.04               750                 9.0    2.89   \n",
       "66346        225.00               750                 9.0    6.25   \n",
       "80570         78.12              1000                12.0    2.17   \n",
       "\n",
       "       Price_per_Liter  \n",
       "22111            14.25  \n",
       "47659            54.00  \n",
       "65214            11.56  \n",
       "66346            25.00  \n",
       "80570             6.51  "
      ]
     },
     "execution_count": 162,
     "metadata": {},
     "output_type": "execute_result"
    }
   ],
   "source": [
    "# Margin and Price per liter\n",
    "# Margin\n",
    "dfn[\"Margin\"] = dfn[\"State_Bottle_Retail\"] - dfn[\"State_Bottle_Cost\"]\n",
    "# Price per Liter  \n",
    "dfn[\"Price_per_Liter\"] = dfn[\"State_Bottle_Retail\"]/(dfn[\"Bottle_Volume_ml\"]/1000)\n",
    "\n",
    "dfn.head()"
   ]
  },
  {
   "cell_type": "code",
   "execution_count": null,
   "metadata": {
    "collapsed": false
   },
   "outputs": [],
   "source": []
  },
  {
   "cell_type": "code",
   "execution_count": 253,
   "metadata": {
    "collapsed": false
   },
   "outputs": [
    {
     "data": {
      "text/html": [
       "<div>\n",
       "<table border=\"1\" class=\"dataframe\">\n",
       "  <thead>\n",
       "    <tr style=\"text-align: right;\">\n",
       "      <th></th>\n",
       "      <th>Store_Number</th>\n",
       "      <th>City</th>\n",
       "      <th>Sale_Dollars_sum_2015</th>\n",
       "      <th>Sale_Dollars_mean_2015</th>\n",
       "      <th>County_Number</th>\n",
       "      <th>Volume_Sold_Liters_sum_2015</th>\n",
       "      <th>Volume_Sold_Liters_mean_2015</th>\n",
       "      <th>Price_per_Liter_mean_2015</th>\n",
       "      <th>Margin_mean_2015</th>\n",
       "      <th>Zip_Code</th>\n",
       "    </tr>\n",
       "  </thead>\n",
       "  <tbody>\n",
       "    <tr>\n",
       "      <th>0</th>\n",
       "      <td>2106</td>\n",
       "      <td>CEDAR FALLS</td>\n",
       "      <td>146038.70</td>\n",
       "      <td>277.640114</td>\n",
       "      <td>7</td>\n",
       "      <td>9719.85</td>\n",
       "      <td>18.478802</td>\n",
       "      <td>17.844997</td>\n",
       "      <td>5.160951</td>\n",
       "      <td>50613</td>\n",
       "    </tr>\n",
       "    <tr>\n",
       "      <th>1</th>\n",
       "      <td>2113</td>\n",
       "      <td>GOWRIE</td>\n",
       "      <td>9310.22</td>\n",
       "      <td>63.334830</td>\n",
       "      <td>94</td>\n",
       "      <td>659.85</td>\n",
       "      <td>4.488776</td>\n",
       "      <td>18.504292</td>\n",
       "      <td>5.445102</td>\n",
       "      <td>50543</td>\n",
       "    </tr>\n",
       "    <tr>\n",
       "      <th>2</th>\n",
       "      <td>2130</td>\n",
       "      <td>WATERLOO</td>\n",
       "      <td>111583.91</td>\n",
       "      <td>285.380844</td>\n",
       "      <td>7</td>\n",
       "      <td>6879.37</td>\n",
       "      <td>17.594297</td>\n",
       "      <td>16.817449</td>\n",
       "      <td>4.918005</td>\n",
       "      <td>50703</td>\n",
       "    </tr>\n",
       "    <tr>\n",
       "      <th>3</th>\n",
       "      <td>2152</td>\n",
       "      <td>ROCKWELL</td>\n",
       "      <td>7721.08</td>\n",
       "      <td>54.759433</td>\n",
       "      <td>17</td>\n",
       "      <td>633.37</td>\n",
       "      <td>4.491986</td>\n",
       "      <td>13.020983</td>\n",
       "      <td>4.322624</td>\n",
       "      <td>50469</td>\n",
       "    </tr>\n",
       "    <tr>\n",
       "      <th>4</th>\n",
       "      <td>2178</td>\n",
       "      <td>WAUKON</td>\n",
       "      <td>24324.18</td>\n",
       "      <td>102.633671</td>\n",
       "      <td>3</td>\n",
       "      <td>1917.12</td>\n",
       "      <td>8.089114</td>\n",
       "      <td>16.062136</td>\n",
       "      <td>4.868861</td>\n",
       "      <td>52172</td>\n",
       "    </tr>\n",
       "  </tbody>\n",
       "</table>\n",
       "</div>"
      ],
      "text/plain": [
       "   Store_Number         City  Sale_Dollars_sum_2015  Sale_Dollars_mean_2015  \\\n",
       "0          2106  CEDAR FALLS              146038.70              277.640114   \n",
       "1          2113       GOWRIE                9310.22               63.334830   \n",
       "2          2130     WATERLOO              111583.91              285.380844   \n",
       "3          2152     ROCKWELL                7721.08               54.759433   \n",
       "4          2178       WAUKON               24324.18              102.633671   \n",
       "\n",
       "   County_Number  Volume_Sold_Liters_sum_2015  Volume_Sold_Liters_mean_2015  \\\n",
       "0              7                      9719.85                     18.478802   \n",
       "1             94                       659.85                      4.488776   \n",
       "2              7                      6879.37                     17.594297   \n",
       "3             17                       633.37                      4.491986   \n",
       "4              3                      1917.12                      8.089114   \n",
       "\n",
       "   Price_per_Liter_mean_2015  Margin_mean_2015 Zip_Code  \n",
       "0                  17.844997          5.160951    50613  \n",
       "1                  18.504292          5.445102    50543  \n",
       "2                  16.817449          4.918005    50703  \n",
       "3                  13.020983          4.322624    50469  \n",
       "4                  16.062136          4.868861    52172  "
      ]
     },
     "execution_count": 253,
     "metadata": {},
     "output_type": "execute_result"
    }
   ],
   "source": [
    "# Sales per store, 2015\n",
    "\n",
    "# Filter by our start and end dates\n",
    "dfn.sort_values(by=[\"Store_Number\", \"Date\"], inplace=True)\n",
    "start_date = pd.Timestamp(\"2015-01-01\")\n",
    "end_date = pd.Timestamp(\"2015-12-31\")\n",
    "mask = (dfn['Date'] >= start_date) & (dfn['Date'] <= end_date)\n",
    "sales2015 = dfn[mask]\n",
    "\n",
    "# Group by store name\n",
    "sales2015 = sales2015.groupby(by=[\"Store_Number\"], as_index=False)\n",
    "# Compute sums, means\n",
    "sales2015 = sales2015.agg({\"Sale_Dollars\": [np.sum, np.mean],\n",
    "                   \"Volume_Sold_Liters\": [np.sum, np.mean],\n",
    "                   \"Margin\": np.mean,\n",
    "                   \"Price_per_Liter\": np.mean,\n",
    "                   \"Zip_Code\": lambda x: x.iloc[0], # just extract once, should be the same\n",
    "                   \"City\": lambda x: x.iloc[0],\n",
    "                   \"County_Number\": lambda x: x.iloc[0],\n",
    "                          })\n",
    "# Collapse the column indices\n",
    "sales2015.columns = [' '.join(col).strip() for col in sales2015.columns.values]\n",
    "# Rename columns\n",
    "sales2015.columns =[\"Store_Number\",\"City\",\"Sale_Dollars_sum_2015\",\"Sale_Dollars_mean_2015\",\"County_Number\",\"Volume_Sold_Liters_sum_2015\",\"Volume_Sold_Liters_mean_2015\",\"Price_per_Liter_mean_2015\",\"Margin_mean_2015\",\"Zip_Code\" ]\n",
    "\n",
    "# Quick check\n",
    "sales2015.head()"
   ]
  },
  {
   "cell_type": "code",
   "execution_count": 259,
   "metadata": {
    "collapsed": false
   },
   "outputs": [
    {
     "data": {
      "text/html": [
       "<div>\n",
       "<table border=\"1\" class=\"dataframe\">\n",
       "  <thead>\n",
       "    <tr style=\"text-align: right;\">\n",
       "      <th></th>\n",
       "      <th>Store_Number</th>\n",
       "      <th>City</th>\n",
       "      <th>Sale_Dollars_sum_2015Q1</th>\n",
       "      <th>Sale_Dollars_mean_2015Q1</th>\n",
       "      <th>County_Number</th>\n",
       "      <th>Volume_Sold_Liters_sum_2015Q1</th>\n",
       "      <th>Volume_Sold_Liters_mean_2015Q1</th>\n",
       "      <th>Price_per_Liter_mean_2015Q1</th>\n",
       "      <th>Margin_mean_2015Q1</th>\n",
       "      <th>Zip_Code</th>\n",
       "    </tr>\n",
       "  </thead>\n",
       "  <tbody>\n",
       "    <tr>\n",
       "      <th>0</th>\n",
       "      <td>2106</td>\n",
       "      <td>CEDAR FALLS</td>\n",
       "      <td>39287.29</td>\n",
       "      <td>304.552636</td>\n",
       "      <td>7</td>\n",
       "      <td>2526.10</td>\n",
       "      <td>19.582171</td>\n",
       "      <td>17.846608</td>\n",
       "      <td>5.033721</td>\n",
       "      <td>50613</td>\n",
       "    </tr>\n",
       "    <tr>\n",
       "      <th>1</th>\n",
       "      <td>2113</td>\n",
       "      <td>GOWRIE</td>\n",
       "      <td>2833.25</td>\n",
       "      <td>67.458333</td>\n",
       "      <td>94</td>\n",
       "      <td>177.11</td>\n",
       "      <td>4.216905</td>\n",
       "      <td>19.358141</td>\n",
       "      <td>5.275000</td>\n",
       "      <td>50543</td>\n",
       "    </tr>\n",
       "    <tr>\n",
       "      <th>2</th>\n",
       "      <td>2130</td>\n",
       "      <td>WATERLOO</td>\n",
       "      <td>24272.57</td>\n",
       "      <td>278.995057</td>\n",
       "      <td>7</td>\n",
       "      <td>1447.25</td>\n",
       "      <td>16.635057</td>\n",
       "      <td>17.565430</td>\n",
       "      <td>5.140920</td>\n",
       "      <td>50703</td>\n",
       "    </tr>\n",
       "    <tr>\n",
       "      <th>3</th>\n",
       "      <td>2152</td>\n",
       "      <td>ROCKWELL</td>\n",
       "      <td>2003.46</td>\n",
       "      <td>62.608125</td>\n",
       "      <td>17</td>\n",
       "      <td>151.74</td>\n",
       "      <td>4.741875</td>\n",
       "      <td>13.991012</td>\n",
       "      <td>4.836875</td>\n",
       "      <td>50469</td>\n",
       "    </tr>\n",
       "    <tr>\n",
       "      <th>4</th>\n",
       "      <td>2178</td>\n",
       "      <td>WAUKON</td>\n",
       "      <td>5856.41</td>\n",
       "      <td>122.008542</td>\n",
       "      <td>3</td>\n",
       "      <td>409.81</td>\n",
       "      <td>8.537708</td>\n",
       "      <td>16.724712</td>\n",
       "      <td>4.932083</td>\n",
       "      <td>52172</td>\n",
       "    </tr>\n",
       "  </tbody>\n",
       "</table>\n",
       "</div>"
      ],
      "text/plain": [
       "   Store_Number         City  Sale_Dollars_sum_2015Q1  \\\n",
       "0          2106  CEDAR FALLS                 39287.29   \n",
       "1          2113       GOWRIE                  2833.25   \n",
       "2          2130     WATERLOO                 24272.57   \n",
       "3          2152     ROCKWELL                  2003.46   \n",
       "4          2178       WAUKON                  5856.41   \n",
       "\n",
       "   Sale_Dollars_mean_2015Q1  County_Number  Volume_Sold_Liters_sum_2015Q1  \\\n",
       "0                304.552636              7                        2526.10   \n",
       "1                 67.458333             94                         177.11   \n",
       "2                278.995057              7                        1447.25   \n",
       "3                 62.608125             17                         151.74   \n",
       "4                122.008542              3                         409.81   \n",
       "\n",
       "   Volume_Sold_Liters_mean_2015Q1  Price_per_Liter_mean_2015Q1  \\\n",
       "0                       19.582171                    17.846608   \n",
       "1                        4.216905                    19.358141   \n",
       "2                       16.635057                    17.565430   \n",
       "3                        4.741875                    13.991012   \n",
       "4                        8.537708                    16.724712   \n",
       "\n",
       "   Margin_mean_2015Q1 Zip_Code  \n",
       "0            5.033721    50613  \n",
       "1            5.275000    50543  \n",
       "2            5.140920    50703  \n",
       "3            4.836875    50469  \n",
       "4            4.932083    52172  "
      ]
     },
     "execution_count": 259,
     "metadata": {},
     "output_type": "execute_result"
    }
   ],
   "source": [
    "# Sales 2015  Q1\n",
    "# Filter by our start and end dates\n",
    "dfn.sort_values(by=[\"Store_Number\", \"Date\"], inplace=True)\n",
    "start_date = pd.Timestamp(\"2015-01-01\")\n",
    "end_date = pd.Timestamp(\"2015-03-31\")\n",
    "mask = (dfn['Date'] >= start_date) & (dfn['Date'] <= end_date)\n",
    "sales2015Q1 = dfn[mask]\n",
    "\n",
    "# Group by store name\n",
    "sales2015Q1 = sales2015Q1.groupby(by=[\"Store_Number\"], as_index=False)\n",
    "# Compute sums, means\n",
    "sales2015Q1 = sales2015Q1.agg({\"Sale_Dollars\": [np.sum, np.mean],\n",
    "                   \"Volume_Sold_Liters\": [np.sum, np.mean],\n",
    "                   \"Margin\": np.mean,\n",
    "                   \"Price_per_Liter\": np.mean,\n",
    "                   \"Zip_Code\": lambda x: x.iloc[0], # just extract once, should be the same\n",
    "                   \"City\": lambda x: x.iloc[0],\n",
    "                   \"County_Number\": lambda x: x.iloc[0],\n",
    "                              })\n",
    "# Collapse the column indices\n",
    "sales2015Q1.columns = [' '.join(col).strip() for col in sales2015Q1.columns.values]\n",
    "# Rename columns\n",
    "sales2015Q1.columns =[\"Store_Number\",\"City\",\"Sale_Dollars_sum_2015Q1\",\"Sale_Dollars_mean_2015Q1\",\"County_Number\",\"Volume_Sold_Liters_sum_2015Q1\",\"Volume_Sold_Liters_mean_2015Q1\",\"Price_per_Liter_mean_2015Q1\",\"Margin_mean_2015Q1\",\"Zip_Code\" ]\n",
    "\n",
    "# Quick check\n",
    "sales2015Q1.head()\n"
   ]
  },
  {
   "cell_type": "code",
   "execution_count": 260,
   "metadata": {
    "collapsed": false
   },
   "outputs": [
    {
     "data": {
      "text/html": [
       "<div>\n",
       "<table border=\"1\" class=\"dataframe\">\n",
       "  <thead>\n",
       "    <tr style=\"text-align: right;\">\n",
       "      <th></th>\n",
       "      <th>Store_Number</th>\n",
       "      <th>City</th>\n",
       "      <th>Sale_Dollars_sum_2016Q1</th>\n",
       "      <th>Sale_Dollars_mean_2016Q1</th>\n",
       "      <th>County_Number</th>\n",
       "      <th>Volume_Sold_Liters_sum_2016Q1</th>\n",
       "      <th>Volume_Sold_Liters_mean_2016Q1</th>\n",
       "      <th>Price_per_Liter_mean_2016Q1</th>\n",
       "      <th>Margin_mean_2016Q1</th>\n",
       "      <th>Zip_Code</th>\n",
       "    </tr>\n",
       "  </thead>\n",
       "  <tbody>\n",
       "    <tr>\n",
       "      <th>0</th>\n",
       "      <td>2106</td>\n",
       "      <td>CEDAR FALLS</td>\n",
       "      <td>30478.75</td>\n",
       "      <td>241.894841</td>\n",
       "      <td>7</td>\n",
       "      <td>2116.25</td>\n",
       "      <td>16.795635</td>\n",
       "      <td>17.969769</td>\n",
       "      <td>5.196508</td>\n",
       "      <td>50613</td>\n",
       "    </tr>\n",
       "    <tr>\n",
       "      <th>1</th>\n",
       "      <td>2113</td>\n",
       "      <td>GOWRIE</td>\n",
       "      <td>2065.90</td>\n",
       "      <td>55.835135</td>\n",
       "      <td>94</td>\n",
       "      <td>177.00</td>\n",
       "      <td>4.783784</td>\n",
       "      <td>17.483024</td>\n",
       "      <td>5.367838</td>\n",
       "      <td>50543</td>\n",
       "    </tr>\n",
       "    <tr>\n",
       "      <th>2</th>\n",
       "      <td>2130</td>\n",
       "      <td>WATERLOO</td>\n",
       "      <td>27856.11</td>\n",
       "      <td>238.086410</td>\n",
       "      <td>7</td>\n",
       "      <td>1556.90</td>\n",
       "      <td>13.306838</td>\n",
       "      <td>17.452157</td>\n",
       "      <td>5.312222</td>\n",
       "      <td>50703</td>\n",
       "    </tr>\n",
       "    <tr>\n",
       "      <th>3</th>\n",
       "      <td>2152</td>\n",
       "      <td>ROCKWELL</td>\n",
       "      <td>904.66</td>\n",
       "      <td>45.233000</td>\n",
       "      <td>17</td>\n",
       "      <td>87.50</td>\n",
       "      <td>4.375000</td>\n",
       "      <td>12.487833</td>\n",
       "      <td>4.160500</td>\n",
       "      <td>50469</td>\n",
       "    </tr>\n",
       "    <tr>\n",
       "      <th>4</th>\n",
       "      <td>2178</td>\n",
       "      <td>WAUKON</td>\n",
       "      <td>5588.50</td>\n",
       "      <td>96.353448</td>\n",
       "      <td>3</td>\n",
       "      <td>520.80</td>\n",
       "      <td>8.979310</td>\n",
       "      <td>15.101929</td>\n",
       "      <td>4.648966</td>\n",
       "      <td>52172</td>\n",
       "    </tr>\n",
       "  </tbody>\n",
       "</table>\n",
       "</div>"
      ],
      "text/plain": [
       "   Store_Number         City  Sale_Dollars_sum_2016Q1  \\\n",
       "0          2106  CEDAR FALLS                 30478.75   \n",
       "1          2113       GOWRIE                  2065.90   \n",
       "2          2130     WATERLOO                 27856.11   \n",
       "3          2152     ROCKWELL                   904.66   \n",
       "4          2178       WAUKON                  5588.50   \n",
       "\n",
       "   Sale_Dollars_mean_2016Q1  County_Number  Volume_Sold_Liters_sum_2016Q1  \\\n",
       "0                241.894841              7                        2116.25   \n",
       "1                 55.835135             94                         177.00   \n",
       "2                238.086410              7                        1556.90   \n",
       "3                 45.233000             17                          87.50   \n",
       "4                 96.353448              3                         520.80   \n",
       "\n",
       "   Volume_Sold_Liters_mean_2016Q1  Price_per_Liter_mean_2016Q1  \\\n",
       "0                       16.795635                    17.969769   \n",
       "1                        4.783784                    17.483024   \n",
       "2                       13.306838                    17.452157   \n",
       "3                        4.375000                    12.487833   \n",
       "4                        8.979310                    15.101929   \n",
       "\n",
       "   Margin_mean_2016Q1 Zip_Code  \n",
       "0            5.196508    50613  \n",
       "1            5.367838    50543  \n",
       "2            5.312222    50703  \n",
       "3            4.160500    50469  \n",
       "4            4.648966    52172  "
      ]
     },
     "execution_count": 260,
     "metadata": {},
     "output_type": "execute_result"
    }
   ],
   "source": [
    "# Sales 2016 Q1\n",
    "# Filter by our start and end dates\n",
    "dfn.sort_values(by=[\"Store_Number\", \"Date\"], inplace=True)\n",
    "start_date = pd.Timestamp(\"2016-01-01\")\n",
    "end_date = pd.Timestamp(\"2016-03-31\")\n",
    "mask = (dfn['Date'] >= start_date) & (dfn['Date'] <= end_date)\n",
    "sales2016Q1 = dfn[mask]\n",
    "\n",
    "# Group by store name\n",
    "sales2016Q1 = sales2016Q1.groupby(by=[\"Store_Number\"], as_index=False)\n",
    "# Compute sums, means\n",
    "sales2016Q1 = sales2016Q1.agg({\"Sale_Dollars\": [np.sum, np.mean],\n",
    "                   \"Volume_Sold_Liters\": [np.sum, np.mean],\n",
    "                   \"Margin\": np.mean, \n",
    "                   \"Price_per_Liter\": np.mean,\n",
    "                   \"Zip_Code\": lambda x: x.iloc[0], # just extract once, should be the same\n",
    "                   \"City\": lambda x: x.iloc[0],\n",
    "                   \"County_Number\": lambda x: x.iloc[0],\n",
    "                              })\n",
    "# Collapse the column indices\n",
    "sales2016Q1.columns = [' '.join(col).strip() for col in sales2016Q1.columns.values]\n",
    "# Rename columns\n",
    "sales2016Q1.columns =[\"Store_Number\",\"City\",\"Sale_Dollars_sum_2016Q1\",\"Sale_Dollars_mean_2016Q1\",\"County_Number\",\"Volume_Sold_Liters_sum_2016Q1\",\"Volume_Sold_Liters_mean_2016Q1\",\"Price_per_Liter_mean_2016Q1\",\"Margin_mean_2016Q1\",\"Zip_Code\" ]\n",
    "\n",
    "# Quick check\n",
    "sales2016Q1.head()"
   ]
  },
  {
   "cell_type": "code",
   "execution_count": 261,
   "metadata": {
    "collapsed": false
   },
   "outputs": [
    {
     "data": {
      "text/plain": [
       "<matplotlib.axes._subplots.AxesSubplot at 0x1cb786c90>"
      ]
     },
     "execution_count": 261,
     "metadata": {},
     "output_type": "execute_result"
    },
    {
     "data": {
      "image/png": "[encoded data removed]",
      "text/plain": [
       "<matplotlib.figure.Figure at 0x1cb3eccd0>"
      ]
     },
     "metadata": {},
     "output_type": "display_data"
    }
   ],
   "source": [
    "#Correlations Matrix 2015\n",
    "sns.heatmap(sales2015.corr())"
   ]
  },
  {
   "cell_type": "code",
   "execution_count": 262,
   "metadata": {
    "collapsed": false
   },
   "outputs": [
    {
     "data": {
      "text/plain": [
       "<matplotlib.axes._subplots.AxesSubplot at 0x1cd8c98d0>"
      ]
     },
     "execution_count": 262,
     "metadata": {},
     "output_type": "execute_result"
    },
    {
     "data": {
      "image/png": "[encoded data removed]",
      "text/plain": [
       "<matplotlib.figure.Figure at 0x1cb559b10>"
      ]
     },
     "metadata": {},
     "output_type": "display_data"
    }
   ],
   "source": [
    "#2015Q1\n",
    "sns.heatmap(sales2015Q1.corr())"
   ]
  },
  {
   "cell_type": "code",
   "execution_count": 263,
   "metadata": {
    "collapsed": false
   },
   "outputs": [
    {
     "data": {
      "text/plain": [
       "<matplotlib.axes._subplots.AxesSubplot at 0x1cf7a3050>"
      ]
     },
     "execution_count": 263,
     "metadata": {},
     "output_type": "execute_result"
    },
    {
     "data": {
      "image/png": "[encoded data removed]",
      "text/plain": [
       "<matplotlib.figure.Figure at 0x1ced03910>"
      ]
     },
     "metadata": {},
     "output_type": "display_data"
    }
   ],
   "source": [
    "#2016Q1\n",
    "sns.heatmap(sales2016Q1.corr())"
   ]
  },
  {
   "cell_type": "markdown",
   "metadata": {},
   "source": [
    "2015Q1 charts similar to 2016Q1"
   ]
  },
  {
   "cell_type": "markdown",
   "metadata": {},
   "source": [
    "## Record your findings\n",
    "\n",
    "Be sure to write out anything observations from your exploratory analysis."
   ]
  },
  {
   "cell_type": "markdown",
   "metadata": {},
   "source": [
    "## Mine the data\n",
    "Now you are ready to compute the variables you will use for your regression from the data. For example, you may want to\n",
    "compute total sales per store from Jan to March of 2015, mean price per bottle, etc. Refer to the readme for more ideas appropriate to your scenario.\n",
    "\n",
    "Pandas is your friend for this task. Take a look at the operations [here](http://pandas.pydata.org/pandas-docs/stable/groupby.html) for ideas on how to make the best use of pandas and feel free to search for blog and Stack Overflow posts to help you group data by certain variables and compute sums, means, etc. You may find it useful to create a new data frame to house this summary data."
   ]
  },
  {
   "cell_type": "markdown",
   "metadata": {},
   "source": [
    "## Refine the data\n",
    "Look for any statistical relationships, correlations, or other relevant properties of the dataset."
   ]
  },
  {
   "cell_type": "code",
   "execution_count": null,
   "metadata": {
    "collapsed": true
   },
   "outputs": [],
   "source": []
  },
  {
   "cell_type": "markdown",
   "metadata": {
    "collapsed": true
   },
   "source": [
    "Both Q1 2015 and 2016 have very similar correlation matricies."
   ]
  },
  {
   "cell_type": "code",
   "execution_count": 230,
   "metadata": {
    "collapsed": false
   },
   "outputs": [
    {
     "data": {
      "text/plain": [
       "<matplotlib.axes._subplots.AxesSubplot at 0x1bee32cd0>"
      ]
     },
     "execution_count": 230,
     "metadata": {},
     "output_type": "execute_result"
    },
    {
     "data": {
      "image/png": "[encoded data removed]",
      "text/plain": [
       "<matplotlib.figure.Figure at 0x1bd9b4d50>"
      ]
     },
     "metadata": {},
     "output_type": "display_data"
    }
   ],
   "source": [
    "fig, axs = plt.subplots(1,3, sharey=True)\n",
    "sales2015.plot(kind=\"scatter\", x=\"Volume_Sold_Liters_sum_2015\", y=\"Sale_Dollars_sum_2015\", ax=axs[0], figsize=(16,8), label=\"2015\" )\n",
    "sales2015Q1.plot(kind=\"scatter\", x=\"Volume_Sold_Liters_sum_2015Q1\", y=\"Sale_Dollars_sum_2015Q1\", ax=axs[1], label = \"2015Q1\" )\n",
    "sales2016Q1.plot(kind=\"scatter\", x=\"Volume_Sold_Liters_sum_2016Q1\", y=\"Sale_Dollars_sum_2016Q1\", ax=axs[2], label = \"2016Q1\" )"
   ]
  },
  {
   "cell_type": "markdown",
   "metadata": {},
   "source": [
    "## Build your models\n",
    "\n",
    "Using scikit-learn or statsmodels, build the necessary models for your scenario. Evaluate model fit."
   ]
  },
  {
   "cell_type": "code",
   "execution_count": 255,
   "metadata": {
    "collapsed": false
   },
   "outputs": [
    {
     "data": {
      "text/html": [
       "<div>\n",
       "<table border=\"1\" class=\"dataframe\">\n",
       "  <thead>\n",
       "    <tr style=\"text-align: right;\">\n",
       "      <th></th>\n",
       "      <th>Store_Number</th>\n",
       "      <th>City</th>\n",
       "      <th>Sale_Dollars_sum_2015Q1</th>\n",
       "      <th>Sale_Dollars_mean_2015Q1</th>\n",
       "      <th>County_Number</th>\n",
       "      <th>Volume_Sold_Liters_sum_2015Q1</th>\n",
       "      <th>Volume_Sold_Liters_mean_2015Q1</th>\n",
       "      <th>Price_per_Liter_mean_2015Q1</th>\n",
       "      <th>Margin_mean_2015Q1</th>\n",
       "      <th>Zip_Code</th>\n",
       "      <th>Sale_Dollars_sum_2015</th>\n",
       "      <th>Sale_Dollars_mean_2015</th>\n",
       "      <th>Volume_Sold_Liters_sum_2015</th>\n",
       "      <th>Volume_Sold_Liters_mean_2015</th>\n",
       "      <th>Price_per_Liter_mean_2015</th>\n",
       "      <th>Margin_mean_2015</th>\n",
       "    </tr>\n",
       "  </thead>\n",
       "  <tbody>\n",
       "    <tr>\n",
       "      <th>0</th>\n",
       "      <td>2106</td>\n",
       "      <td>CEDAR FALLS</td>\n",
       "      <td>39287.29</td>\n",
       "      <td>304.552636</td>\n",
       "      <td>7</td>\n",
       "      <td>2526.10</td>\n",
       "      <td>19.582171</td>\n",
       "      <td>17.846608</td>\n",
       "      <td>5.033721</td>\n",
       "      <td>50613</td>\n",
       "      <td>146038.70</td>\n",
       "      <td>277.640114</td>\n",
       "      <td>9719.85</td>\n",
       "      <td>18.478802</td>\n",
       "      <td>17.844997</td>\n",
       "      <td>5.160951</td>\n",
       "    </tr>\n",
       "    <tr>\n",
       "      <th>1</th>\n",
       "      <td>2113</td>\n",
       "      <td>GOWRIE</td>\n",
       "      <td>2833.25</td>\n",
       "      <td>67.458333</td>\n",
       "      <td>94</td>\n",
       "      <td>177.11</td>\n",
       "      <td>4.216905</td>\n",
       "      <td>19.358141</td>\n",
       "      <td>5.275000</td>\n",
       "      <td>50543</td>\n",
       "      <td>9310.22</td>\n",
       "      <td>63.334830</td>\n",
       "      <td>659.85</td>\n",
       "      <td>4.488776</td>\n",
       "      <td>18.504292</td>\n",
       "      <td>5.445102</td>\n",
       "    </tr>\n",
       "    <tr>\n",
       "      <th>2</th>\n",
       "      <td>2130</td>\n",
       "      <td>WATERLOO</td>\n",
       "      <td>24272.57</td>\n",
       "      <td>278.995057</td>\n",
       "      <td>7</td>\n",
       "      <td>1447.25</td>\n",
       "      <td>16.635057</td>\n",
       "      <td>17.565430</td>\n",
       "      <td>5.140920</td>\n",
       "      <td>50703</td>\n",
       "      <td>111583.91</td>\n",
       "      <td>285.380844</td>\n",
       "      <td>6879.37</td>\n",
       "      <td>17.594297</td>\n",
       "      <td>16.817449</td>\n",
       "      <td>4.918005</td>\n",
       "    </tr>\n",
       "    <tr>\n",
       "      <th>3</th>\n",
       "      <td>2152</td>\n",
       "      <td>ROCKWELL</td>\n",
       "      <td>2003.46</td>\n",
       "      <td>62.608125</td>\n",
       "      <td>17</td>\n",
       "      <td>151.74</td>\n",
       "      <td>4.741875</td>\n",
       "      <td>13.991012</td>\n",
       "      <td>4.836875</td>\n",
       "      <td>50469</td>\n",
       "      <td>7721.08</td>\n",
       "      <td>54.759433</td>\n",
       "      <td>633.37</td>\n",
       "      <td>4.491986</td>\n",
       "      <td>13.020983</td>\n",
       "      <td>4.322624</td>\n",
       "    </tr>\n",
       "    <tr>\n",
       "      <th>4</th>\n",
       "      <td>2178</td>\n",
       "      <td>WAUKON</td>\n",
       "      <td>5856.41</td>\n",
       "      <td>122.008542</td>\n",
       "      <td>3</td>\n",
       "      <td>409.81</td>\n",
       "      <td>8.537708</td>\n",
       "      <td>16.724712</td>\n",
       "      <td>4.932083</td>\n",
       "      <td>52172</td>\n",
       "      <td>24324.18</td>\n",
       "      <td>102.633671</td>\n",
       "      <td>1917.12</td>\n",
       "      <td>8.089114</td>\n",
       "      <td>16.062136</td>\n",
       "      <td>4.868861</td>\n",
       "    </tr>\n",
       "  </tbody>\n",
       "</table>\n",
       "</div>"
      ],
      "text/plain": [
       "   Store_Number         City  Sale_Dollars_sum_2015Q1  \\\n",
       "0          2106  CEDAR FALLS                 39287.29   \n",
       "1          2113       GOWRIE                  2833.25   \n",
       "2          2130     WATERLOO                 24272.57   \n",
       "3          2152     ROCKWELL                  2003.46   \n",
       "4          2178       WAUKON                  5856.41   \n",
       "\n",
       "   Sale_Dollars_mean_2015Q1  County_Number  Volume_Sold_Liters_sum_2015Q1  \\\n",
       "0                304.552636              7                        2526.10   \n",
       "1                 67.458333             94                         177.11   \n",
       "2                278.995057              7                        1447.25   \n",
       "3                 62.608125             17                         151.74   \n",
       "4                122.008542              3                         409.81   \n",
       "\n",
       "   Volume_Sold_Liters_mean_2015Q1  Price_per_Liter_mean_2015Q1  \\\n",
       "0                       19.582171                    17.846608   \n",
       "1                        4.216905                    19.358141   \n",
       "2                       16.635057                    17.565430   \n",
       "3                        4.741875                    13.991012   \n",
       "4                        8.537708                    16.724712   \n",
       "\n",
       "   Margin_mean_2015Q1 Zip_Code  Sale_Dollars_sum_2015  Sale_Dollars_mean_2015  \\\n",
       "0            5.033721    50613              146038.70              277.640114   \n",
       "1            5.275000    50543                9310.22               63.334830   \n",
       "2            5.140920    50703              111583.91              285.380844   \n",
       "3            4.836875    50469                7721.08               54.759433   \n",
       "4            4.932083    52172               24324.18              102.633671   \n",
       "\n",
       "   Volume_Sold_Liters_sum_2015  Volume_Sold_Liters_mean_2015  \\\n",
       "0                      9719.85                     18.478802   \n",
       "1                       659.85                      4.488776   \n",
       "2                      6879.37                     17.594297   \n",
       "3                       633.37                      4.491986   \n",
       "4                      1917.12                      8.089114   \n",
       "\n",
       "   Price_per_Liter_mean_2015  Margin_mean_2015  \n",
       "0                  17.844997          5.160951  \n",
       "1                  18.504292          5.445102  \n",
       "2                  16.817449          4.918005  \n",
       "3                  13.020983          4.322624  \n",
       "4                  16.062136          4.868861  "
      ]
     },
     "execution_count": 255,
     "metadata": {},
     "output_type": "execute_result"
    }
   ],
   "source": [
    "#\n",
    "df2015plusQ1 = pd.merge(sales2015Q1, sales2015, on = (\"Store_Number\",\"City\",\"County_Number\", \"Zip_Code\" ))\n",
    "df2015plusQ1.head()"
   ]
  },
  {
   "cell_type": "code",
   "execution_count": 265,
   "metadata": {
    "collapsed": false
   },
   "outputs": [
    {
     "data": {
      "image/png": "[encoded data removed]",
      "text/plain": [
       "<matplotlib.figure.Figure at 0x1d229bd10>"
      ]
     },
     "metadata": {},
     "output_type": "display_data"
    },
    {
     "name": "stdout",
     "output_type": "stream",
     "text": [
      "MSE: 101605029.139\n"
     ]
    },
    {
     "data": {
      "text/plain": [
       "0.96326403919821368"
      ]
     },
     "execution_count": 265,
     "metadata": {},
     "output_type": "execute_result"
    }
   ],
   "source": [
    "from sklearn.linear_model import LinearRegression\n",
    "from sklearn.metrics import mean_squared_error\n",
    "\n",
    "X = df2015plusQ1[[\"Sale_Dollars_sum_2015Q1\",\"Price_per_Liter_mean_2015Q1\", \"Margin_mean_2015Q1\"]]\n",
    "y = df2015plusQ1[\"Sale_Dollars_sum_2015\"]\n",
    "\n",
    "X16predict = sales2016Q1[[\"Sale_Dollars_sum_2016Q1\",\"Price_per_Liter_mean_2016Q1\", \"Margin_mean_2016Q1\"]]\n",
    "\n",
    "model = LinearRegression()\n",
    "model.fit(X, y)\n",
    "predictions = model.predict(X)\n",
    "pred2016 = model.predict(X16predict)\n",
    "\n",
    "sales2016Q1[\"2016 Forecast\"] = pred2016\n",
    "\n",
    "plt.scatter(predictions, y, s=30, c='r', marker='+', zorder=10)\n",
    "plt.xlabel(\"Predicted Values\")\n",
    "plt.ylabel(\"Actual Values\")\n",
    "plt.show()\n",
    "print \"MSE:\", mean_squared_error(y, predictions)\n",
    "model.score(X,y)"
   ]
  },
  {
   "cell_type": "code",
   "execution_count": 266,
   "metadata": {
    "collapsed": false
   },
   "outputs": [
    {
     "name": "stdout",
     "output_type": "stream",
     "text": [
      "2015:  28478661.98\n",
      "Est. 2016:  28114090.5285\n"
     ]
    },
    {
     "data": {
      "text/plain": [
       "364571.4515487999"
      ]
     },
     "execution_count": 266,
     "metadata": {},
     "output_type": "execute_result"
    }
   ],
   "source": [
    "allsales2016 = sales2016Q1[\"2016 Forecast\"].sum()\n",
    "allsales2015 = sales2015[\"Sale_Dollars_sum_2015\"].sum()\n",
    "\n",
    "print \"2015: \",allsales2015\n",
    "print \"Est. 2016: \",allsales2016\n",
    "\n",
    "allsales2015 - allsales2016"
   ]
  },
  {
   "cell_type": "markdown",
   "metadata": {},
   "source": [
    "Sales Decrease in 2016"
   ]
  },
  {
   "cell_type": "code",
   "execution_count": null,
   "metadata": {
    "collapsed": true
   },
   "outputs": [],
   "source": []
  },
  {
   "cell_type": "markdown",
   "metadata": {},
   "source": [
    "## Plot your results\n",
    "\n",
    "Again make sure that you record any valuable information. For example, in the tax scenario, did you find the sales from the first three months of the year to be a good predictor of the total sales for the year? Plot the predictions versus the true values and discuss the successes and limitations of your models"
   ]
  },
  {
   "cell_type": "code",
   "execution_count": null,
   "metadata": {
    "collapsed": true
   },
   "outputs": [],
   "source": []
  },
  {
   "cell_type": "markdown",
   "metadata": {},
   "source": [
    "## Present the Results\n",
    "\n",
    "Present your conclusions and results, including a Tableau Storyboard. If you have more than one interesting model feel free to include."
   ]
  },
  {
   "cell_type": "code",
   "execution_count": null,
   "metadata": {
    "collapsed": true
   },
   "outputs": [],
   "source": []
  },
  {
   "cell_type": "code",
   "execution_count": 56,
   "metadata": {
    "collapsed": true
   },
   "outputs": [],
   "source": [
    "#blog link: "
   ]
  },
  {
   "cell_type": "markdown",
   "metadata": {},
   "source": [
    "Score | /24\n",
    "----|----\n",
    "Identify: Problem Statement and Risks | \n",
    "Acquire: Import with Pandas| \n",
    "Parse: EDA | \n",
    "Mine: Create columns/clean/format/process data| \n",
    "Refine: Determine outliers and distribution, correlation, & statistical analysis| \n",
    "Model: Create linear models; calculate probabilities, evaluate model, perform CV| \n",
    "Present: Create executive summary, present findings, summarize, tailored for your audience|\n",
    "Present: Blog |\n",
    "Bonus: perform Ridge and Lasso regularization and explain what they do | "
   ]
  },
  {
   "cell_type": "code",
   "execution_count": null,
   "metadata": {
    "collapsed": true
   },
   "outputs": [],
   "source": []
  }
 ],
 "metadata": {
  "anaconda-cloud": {},
  "kernelspec": {
   "display_name": "Python [default]",
   "language": "python",
   "name": "python2"
  },
  "language_info": {
   "codemirror_mode": {
    "name": "ipython",
    "version": 2
   },
   "file_extension": ".py",
   "mimetype": "text/x-python",
   "name": "python",
   "nbconvert_exporter": "python",
   "pygments_lexer": "ipython2",
   "version": "2.7.12"
  }
 },
 "nbformat": 4,
 "nbformat_minor": 0
}
