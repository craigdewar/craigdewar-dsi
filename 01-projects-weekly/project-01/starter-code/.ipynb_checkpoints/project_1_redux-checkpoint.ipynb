{
 "cells": [
  {
   "cell_type": "markdown",
   "metadata": {},
   "source": [
    "# Project 1\n",
    "\n",
    "## Step 1: Open the `sat_scores.csv` file. Investigate the data, and answer the questions below.\n"
   ]
  },
  {
   "cell_type": "markdown",
   "metadata": {},
   "source": [
    "##### 1. What does the data describe?"
   ]
  },
  {
   "cell_type": "markdown",
   "metadata": {},
   "source": []
  },
  {
   "cell_type": "markdown",
   "metadata": {},
   "source": [
    "##### 2. Does the data look complete? Are there any obvious issues with the observations?"
   ]
  },
  {
   "cell_type": "markdown",
   "metadata": {},
   "source": []
  },
  {
   "cell_type": "markdown",
   "metadata": {},
   "source": [
    "##### 3. Create a data dictionary for the dataset."
   ]
  },
  {
   "cell_type": "markdown",
   "metadata": {
    "collapsed": true
   },
   "source": []
  },
  {
   "cell_type": "markdown",
   "metadata": {},
   "source": [
    "## Step 2: Load the data."
   ]
  },
  {
   "cell_type": "markdown",
   "metadata": {},
   "source": [
    "##### 4. Load the data into a list of lists"
   ]
  },
  {
   "cell_type": "code",
   "execution_count": 4,
   "metadata": {
    "collapsed": false
   },
   "outputs": [],
   "source": [
    "#import necessary packages\n",
    "import csv\n",
    "import pandas as pd\n",
    "\n",
    "sat =[]\n",
    "with open(\"../assets/sat_scores.csv\",\"r\") as satRaw:\n",
    "    satScores = csv.reader(satRaw)\n",
    "    for row in satScores:\n",
    "        sat.append(row)\n",
    "satRaw.close()\n",
    "    "
   ]
  },
  {
   "cell_type": "markdown",
   "metadata": {},
   "source": [
    "##### 5. Print the data"
   ]
  },
  {
   "cell_type": "code",
   "execution_count": 5,
   "metadata": {
    "collapsed": false
   },
   "outputs": [
    {
     "name": "stdout",
     "output_type": "stream",
     "text": [
      "[['State', 'Rate', 'Verbal', 'Math'], ['CT', '82', '509', '510'], ['NJ', '81', '499', '513'], ['MA', '79', '511', '515'], ['NY', '77', '495', '505'], ['NH', '72', '520', '516'], ['RI', '71', '501', '499'], ['PA', '71', '500', '499'], ['VT', '69', '511', '506'], ['ME', '69', '506', '500'], ['VA', '68', '510', '501'], ['DE', '67', '501', '499'], ['MD', '65', '508', '510'], ['NC', '65', '493', '499'], ['GA', '63', '491', '489'], ['IN', '60', '499', '501'], ['SC', '57', '486', '488'], ['DC', '56', '482', '474'], ['OR', '55', '526', '526'], ['FL', '54', '498', '499'], ['WA', '53', '527', '527'], ['TX', '53', '493', '499'], ['HI', '52', '485', '515'], ['AK', '51', '514', '510'], ['CA', '51', '498', '517'], ['AZ', '34', '523', '525'], ['NV', '33', '509', '515'], ['CO', '31', '539', '542'], ['OH', '26', '534', '439'], ['MT', '23', '539', '539'], ['WV', '18', '527', '512'], ['ID', '17', '543', '542'], ['TN', '13', '562', '553'], ['NM', '13', '551', '542'], ['IL', '12', '576', '589'], ['KY', '12', '550', '550'], ['WY', '11', '547', '545'], ['MI', '11', '561', '572'], ['MN', '9', '580', '589'], ['KS', '9', '577', '580'], ['AL', '9', '559', '554'], ['NE', '8', '562', '568'], ['OK', '8', '567', '561'], ['MO', '8', '577', '577'], ['LA', '7', '564', '562'], ['WI', '6', '584', '596'], ['AR', '6', '562', '550'], ['UT', '5', '575', '570'], ['IA', '5', '593', '603'], ['SD', '4', '577', '582'], ['ND', '4', '592', '599'], ['MS', '4', '566', '551'], ['All', '45', '506', '514']]\n"
     ]
    }
   ],
   "source": [
    "print sat"
   ]
  },
  {
   "cell_type": "markdown",
   "metadata": {
    "collapsed": true
   },
   "source": [
    "##### 6. Extract a list of the labels from the data, and remove them from the data."
   ]
  },
  {
   "cell_type": "code",
   "execution_count": 6,
   "metadata": {
    "collapsed": false
   },
   "outputs": [
    {
     "data": {
      "text/plain": [
       "['State', 'Rate', 'Verbal', 'Math']"
      ]
     },
     "execution_count": 6,
     "metadata": {},
     "output_type": "execute_result"
    }
   ],
   "source": [
    "satLabels = sat[0]\n",
    "satData = sat[1:-1]\n",
    "\n",
    "satLabels\n",
    "#satData"
   ]
  },
  {
   "cell_type": "markdown",
   "metadata": {},
   "source": [
    "##### 7. Create a list of State names extracted from the data. (Hint: use the list of labels to index on the State column)"
   ]
  },
  {
   "cell_type": "code",
   "execution_count": 7,
   "metadata": {
    "collapsed": false
   },
   "outputs": [
    {
     "data": {
      "text/plain": [
       "['CT',\n",
       " 'NJ',\n",
       " 'MA',\n",
       " 'NY',\n",
       " 'NH',\n",
       " 'RI',\n",
       " 'PA',\n",
       " 'VT',\n",
       " 'ME',\n",
       " 'VA',\n",
       " 'DE',\n",
       " 'MD',\n",
       " 'NC',\n",
       " 'GA',\n",
       " 'IN',\n",
       " 'SC',\n",
       " 'DC',\n",
       " 'OR',\n",
       " 'FL',\n",
       " 'WA',\n",
       " 'TX',\n",
       " 'HI',\n",
       " 'AK',\n",
       " 'CA',\n",
       " 'AZ',\n",
       " 'NV',\n",
       " 'CO',\n",
       " 'OH',\n",
       " 'MT',\n",
       " 'WV',\n",
       " 'ID',\n",
       " 'TN',\n",
       " 'NM',\n",
       " 'IL',\n",
       " 'KY',\n",
       " 'WY',\n",
       " 'MI',\n",
       " 'MN',\n",
       " 'KS',\n",
       " 'AL',\n",
       " 'NE',\n",
       " 'OK',\n",
       " 'MO',\n",
       " 'LA',\n",
       " 'WI',\n",
       " 'AR',\n",
       " 'UT',\n",
       " 'IA',\n",
       " 'SD',\n",
       " 'ND',\n",
       " 'MS']"
      ]
     },
     "execution_count": 7,
     "metadata": {},
     "output_type": "execute_result"
    }
   ],
   "source": [
    "stateList = [state[0] for state in sat[1:-1] ]\n",
    "stateList"
   ]
  },
  {
   "cell_type": "markdown",
   "metadata": {},
   "source": [
    "##### 8. Print the types of each column"
   ]
  },
  {
   "cell_type": "code",
   "execution_count": 8,
   "metadata": {
    "collapsed": false
   },
   "outputs": [
    {
     "name": "stdout",
     "output_type": "stream",
     "text": [
      "<type 'str'>\n",
      "<type 'str'>\n",
      "<type 'str'>\n",
      "<type 'str'>\n"
     ]
    }
   ],
   "source": [
    "#standard loop to return types in list\n",
    "for x in satData[0]:\n",
    "    print type(x)"
   ]
  },
  {
   "cell_type": "code",
   "execution_count": 9,
   "metadata": {
    "collapsed": false
   },
   "outputs": [
    {
     "name": "stdout",
     "output_type": "stream",
     "text": [
      "[<type 'str'>, <type 'str'>, <type 'str'>, <type 'str'>]\n"
     ]
    }
   ],
   "source": [
    "#list comprehension\n",
    "print [type(x) for x in satData[0]]"
   ]
  },
  {
   "cell_type": "markdown",
   "metadata": {},
   "source": [
    "##### 9. Do any types need to be reassigned? If so, go ahead and do it."
   ]
  },
  {
   "cell_type": "code",
   "execution_count": 42,
   "metadata": {
    "collapsed": false
   },
   "outputs": [],
   "source": [
    "#standard for loop\n",
    "for stateScores in satData:\n",
    "    for score in stateScores:\n",
    "        stateScores[1] = int(stateScores[1])\n",
    "        stateScores[2] = int(stateScores[2])\n",
    "        stateScores[3] = int(stateScores[3])\n",
    "        \n",
    "\n",
    "#print [type(x) for x in satData[0]]"
   ]
  },
  {
   "cell_type": "code",
   "execution_count": 43,
   "metadata": {
    "collapsed": false
   },
   "outputs": [
    {
     "data": {
      "text/plain": [
       "[[82, 509, 510],\n",
       " [81, 499, 513],\n",
       " [79, 511, 515],\n",
       " [77, 495, 505],\n",
       " [72, 520, 516],\n",
       " [71, 501, 499],\n",
       " [71, 500, 499],\n",
       " [69, 511, 506],\n",
       " [69, 506, 500],\n",
       " [68, 510, 501],\n",
       " [67, 501, 499],\n",
       " [65, 508, 510],\n",
       " [65, 493, 499],\n",
       " [63, 491, 489],\n",
       " [60, 499, 501],\n",
       " [57, 486, 488],\n",
       " [56, 482, 474],\n",
       " [55, 526, 526],\n",
       " [54, 498, 499],\n",
       " [53, 527, 527],\n",
       " [53, 493, 499],\n",
       " [52, 485, 515],\n",
       " [51, 514, 510],\n",
       " [51, 498, 517],\n",
       " [34, 523, 525],\n",
       " [33, 509, 515],\n",
       " [31, 539, 542],\n",
       " [26, 534, 439],\n",
       " [23, 539, 539],\n",
       " [18, 527, 512],\n",
       " [17, 543, 542],\n",
       " [13, 562, 553],\n",
       " [13, 551, 542],\n",
       " [12, 576, 589],\n",
       " [12, 550, 550],\n",
       " [11, 547, 545],\n",
       " [11, 561, 572],\n",
       " [9, 580, 589],\n",
       " [9, 577, 580],\n",
       " [9, 559, 554],\n",
       " [8, 562, 568],\n",
       " [8, 567, 561],\n",
       " [8, 577, 577],\n",
       " [7, 564, 562],\n",
       " [6, 584, 596],\n",
       " [6, 562, 550],\n",
       " [5, 575, 570],\n",
       " [5, 593, 603],\n",
       " [4, 577, 582],\n",
       " [4, 592, 599],\n",
       " [4, 566, 551]]"
      ]
     },
     "execution_count": 43,
     "metadata": {},
     "output_type": "execute_result"
    }
   ],
   "source": [
    "#list comprehension conversion -- w/ dropping the state from the data\n",
    "[[int(score) for score in state[1:]] for state in satData]"
   ]
  },
  {
   "cell_type": "markdown",
   "metadata": {},
   "source": [
    "##### 10. Create a dictionary for each column mapping the State to its respective value for that column. "
   ]
  },
  {
   "cell_type": "code",
   "execution_count": 12,
   "metadata": {
    "collapsed": false
   },
   "outputs": [
    {
     "data": {
      "text/plain": [
       "[[82, 509, 510],\n",
       " [81, 499, 513],\n",
       " [79, 511, 515],\n",
       " [77, 495, 505],\n",
       " [72, 520, 516],\n",
       " [71, 501, 499],\n",
       " [71, 500, 499],\n",
       " [69, 511, 506],\n",
       " [69, 506, 500],\n",
       " [68, 510, 501],\n",
       " [67, 501, 499],\n",
       " [65, 508, 510],\n",
       " [65, 493, 499],\n",
       " [63, 491, 489],\n",
       " [60, 499, 501],\n",
       " [57, 486, 488],\n",
       " [56, 482, 474],\n",
       " [55, 526, 526],\n",
       " [54, 498, 499],\n",
       " [53, 527, 527],\n",
       " [53, 493, 499],\n",
       " [52, 485, 515],\n",
       " [51, 514, 510],\n",
       " [51, 498, 517],\n",
       " [34, 523, 525],\n",
       " [33, 509, 515],\n",
       " [31, 539, 542],\n",
       " [26, 534, 439],\n",
       " [23, 539, 539],\n",
       " [18, 527, 512],\n",
       " [17, 543, 542],\n",
       " [13, 562, 553],\n",
       " [13, 551, 542],\n",
       " [12, 576, 589],\n",
       " [12, 550, 550],\n",
       " [11, 547, 545],\n",
       " [11, 561, 572],\n",
       " [9, 580, 589],\n",
       " [9, 577, 580],\n",
       " [9, 559, 554],\n",
       " [8, 562, 568],\n",
       " [8, 567, 561],\n",
       " [8, 577, 577],\n",
       " [7, 564, 562],\n",
       " [6, 584, 596],\n",
       " [6, 562, 550],\n",
       " [5, 575, 570],\n",
       " [5, 593, 603],\n",
       " [4, 577, 582],\n",
       " [4, 592, 599],\n",
       " [4, 566, 551]]"
      ]
     },
     "execution_count": 12,
     "metadata": {},
     "output_type": "execute_result"
    }
   ],
   "source": [
    "def dropState(data):\n",
    "    dropList =[]\n",
    "    for x in data:\n",
    "        dropList.append(x[1:])\n",
    "    return dropList\n",
    "    \n",
    "stateDropScore = dropState(satData)\n",
    "stateDropScore    "
   ]
  },
  {
   "cell_type": "code",
   "execution_count": null,
   "metadata": {
    "collapsed": true
   },
   "outputs": [],
   "source": [
    "#list comprehension\n",
    "#Doesn't exist dropped state and converted to int in previous step"
   ]
  },
  {
   "cell_type": "code",
   "execution_count": 13,
   "metadata": {
    "collapsed": false
   },
   "outputs": [
    {
     "data": {
      "text/plain": [
       "{'AK': [51, 514, 510],\n",
       " 'AL': [9, 559, 554],\n",
       " 'AR': [6, 562, 550],\n",
       " 'AZ': [34, 523, 525],\n",
       " 'CA': [51, 498, 517],\n",
       " 'CO': [31, 539, 542],\n",
       " 'CT': [82, 509, 510],\n",
       " 'DC': [56, 482, 474],\n",
       " 'DE': [67, 501, 499],\n",
       " 'FL': [54, 498, 499],\n",
       " 'GA': [63, 491, 489],\n",
       " 'HI': [52, 485, 515],\n",
       " 'IA': [5, 593, 603],\n",
       " 'ID': [17, 543, 542],\n",
       " 'IL': [12, 576, 589],\n",
       " 'IN': [60, 499, 501],\n",
       " 'KS': [9, 577, 580],\n",
       " 'KY': [12, 550, 550],\n",
       " 'LA': [7, 564, 562],\n",
       " 'MA': [79, 511, 515],\n",
       " 'MD': [65, 508, 510],\n",
       " 'ME': [69, 506, 500],\n",
       " 'MI': [11, 561, 572],\n",
       " 'MN': [9, 580, 589],\n",
       " 'MO': [8, 577, 577],\n",
       " 'MS': [4, 566, 551],\n",
       " 'MT': [23, 539, 539],\n",
       " 'NC': [65, 493, 499],\n",
       " 'ND': [4, 592, 599],\n",
       " 'NE': [8, 562, 568],\n",
       " 'NH': [72, 520, 516],\n",
       " 'NJ': [81, 499, 513],\n",
       " 'NM': [13, 551, 542],\n",
       " 'NV': [33, 509, 515],\n",
       " 'NY': [77, 495, 505],\n",
       " 'OH': [26, 534, 439],\n",
       " 'OK': [8, 567, 561],\n",
       " 'OR': [55, 526, 526],\n",
       " 'PA': [71, 500, 499],\n",
       " 'RI': [71, 501, 499],\n",
       " 'SC': [57, 486, 488],\n",
       " 'SD': [4, 577, 582],\n",
       " 'TN': [13, 562, 553],\n",
       " 'TX': [53, 493, 499],\n",
       " 'UT': [5, 575, 570],\n",
       " 'VA': [68, 510, 501],\n",
       " 'VT': [69, 511, 506],\n",
       " 'WA': [53, 527, 527],\n",
       " 'WI': [6, 584, 596],\n",
       " 'WV': [18, 527, 512],\n",
       " 'WY': [11, 547, 545]}"
      ]
     },
     "execution_count": 13,
     "metadata": {},
     "output_type": "execute_result"
    }
   ],
   "source": [
    "satDict = dict(zip(stateList,stateDropScore))\n",
    "satDict\n",
    "      "
   ]
  },
  {
   "cell_type": "markdown",
   "metadata": {},
   "source": [
    "##### 11. Create a dictionary with the values for each of the numeric columns"
   ]
  },
  {
   "cell_type": "code",
   "execution_count": 62,
   "metadata": {
    "collapsed": false
   },
   "outputs": [
    {
     "data": {
      "text/plain": [
       "[53,\n",
       " 67,\n",
       " 56,\n",
       " 6,\n",
       " 18,\n",
       " 52,\n",
       " 54,\n",
       " 11,\n",
       " 72,\n",
       " 81,\n",
       " 13,\n",
       " 53,\n",
       " 7,\n",
       " 65,\n",
       " 4,\n",
       " 8,\n",
       " 13,\n",
       " 77,\n",
       " 71,\n",
       " 71,\n",
       " 33,\n",
       " 68,\n",
       " 31,\n",
       " 51,\n",
       " 9,\n",
       " 6,\n",
       " 69,\n",
       " 12,\n",
       " 63,\n",
       " 60,\n",
       " 5,\n",
       " 8,\n",
       " 34,\n",
       " 51,\n",
       " 17,\n",
       " 82,\n",
       " 69,\n",
       " 65,\n",
       " 79,\n",
       " 26,\n",
       " 5,\n",
       " 8,\n",
       " 9,\n",
       " 11,\n",
       " 9,\n",
       " 23,\n",
       " 4,\n",
       " 57,\n",
       " 12,\n",
       " 55,\n",
       " 4]"
      ]
     },
     "execution_count": 62,
     "metadata": {},
     "output_type": "execute_result"
    },
    {
     "name": "stdout",
     "output_type": "stream",
     "text": [
      "\n"
     ]
    }
   ],
   "source": [
    "rvmDict = {\n",
    "   \"rate\":[value[0] for key, value in satDict.iteritems()], \n",
    "   \"verbal\":[value[1] for key, value in satDict.iteritems()],\n",
    "   \"math\":[value[2] for key, value in satDict.iteritems()]    \n",
    "}\n",
    "\n",
    "rvmDict[\"rate\"]"
   ]
  },
  {
   "cell_type": "markdown",
   "metadata": {},
   "source": [
    "## Step 3: Describe the data"
   ]
  },
  {
   "cell_type": "markdown",
   "metadata": {},
   "source": [
    "##### 12. Print the min and max of each column"
   ]
  },
  {
   "cell_type": "code",
   "execution_count": 56,
   "metadata": {
    "collapsed": false
   },
   "outputs": [
    {
     "name": "stdout",
     "output_type": "stream",
     "text": [
      " Rate min: 4\n",
      " Rate Max: 82\n",
      " Verbal min: 482\n",
      " Verbal Max: 593\n",
      " Math min: 439\n",
      " Math Max: 603\n"
     ]
    }
   ],
   "source": [
    "print \" Rate min: \" + str(min(rvmDict[\"rate\"]))\n",
    "print \" Rate Max: \" + str(max(rvmDict[\"rate\"]))\n",
    "print \" Verbal min: \" + str(min(rvmDict[\"verbal\"])) \n",
    "print \" Verbal Max: \" + str(max(rvmDict[\"verbal\"]))\n",
    "print \" Math min: \" + str(min(rvmDict[\"math\"]))\n",
    "print \" Math Max: \" + str(max(rvmDict[\"math\"]))"
   ]
  },
  {
   "cell_type": "markdown",
   "metadata": {},
   "source": [
    "##### 13. Write a function using only list comprehensions, no loops, to compute Standard Deviation. Print the Standard Deviation of each numeric column."
   ]
  },
  {
   "cell_type": "code",
   "execution_count": 66,
   "metadata": {
    "collapsed": false
   },
   "outputs": [
    {
     "name": "stdout",
     "output_type": "stream",
     "text": [
      "Standard Deviation of Rate: 27.276363394\n",
      "Standard Deviation of Math: 35.9304884464\n",
      "Standard Deviation of Verbal: 33.0302891298\n"
     ]
    }
   ],
   "source": [
    "def stdDev(data):\n",
    "    mean = sum(data)/len(data)\n",
    "    variance = sum([(x-mean)**2 for x in data])/len(data)\n",
    "    stdDev = variance ** .5\n",
    "    return stdDev\n",
    "\n",
    "print \"Standard Deviation of Rate:\", stdDev(rvmDict[\"rate\"])\n",
    "print \"Standard Deviation of Math:\", stdDev(rvmDict[\"math\"])\n",
    "print \"Standard Deviation of Verbal:\", stdDev(rvmDict[\"verbal\"])"
   ]
  },
  {
   "cell_type": "code",
   "execution_count": null,
   "metadata": {
    "collapsed": false
   },
   "outputs": [],
   "source": [
    "# std deviation\n",
    "# find the mean\n",
    "# calculate the Variance, take each difference, square it, and then average the result:\n",
    "# stdDev is sqrt of the variance\n"
   ]
  },
  {
   "cell_type": "markdown",
   "metadata": {},
   "source": [
    "## Step 4: Visualize the data"
   ]
  },
  {
   "cell_type": "markdown",
   "metadata": {
    "collapsed": true
   },
   "source": [
    "##### 14. Using MatPlotLib and PyPlot, plot the distribution of the Rate using histograms."
   ]
  },
  {
   "cell_type": "code",
   "execution_count": 71,
   "metadata": {
    "collapsed": false
   },
   "outputs": [],
   "source": [
    "import matplotlib as mpl\n",
    "import matplotlib.pyplot as plt\n",
    "%matplotlib inline"
   ]
  },
  {
   "cell_type": "code",
   "execution_count": 72,
   "metadata": {
    "collapsed": false
   },
   "outputs": [
    {
     "data": {
      "text/plain": [
       "(array([ 16.,   6.,   2.,   3.,   0.,   0.,   9.,   4.,   7.,   4.]),\n",
       " array([  4. ,  11.8,  19.6,  27.4,  35.2,  43. ,  50.8,  58.6,  66.4,\n",
       "         74.2,  82. ]),\n",
       " <a list of 10 Patch objects>)"
      ]
     },
     "execution_count": 72,
     "metadata": {},
     "output_type": "execute_result"
    },
    {
     "data": {
      "image/png": "[encoded data removed]",
      "text/plain": [
       "<matplotlib.figure.Figure at 0x113fba6d0>"
      ]
     },
     "metadata": {},
     "output_type": "display_data"
    }
   ],
   "source": [
    "plt.hist(rvmDict[\"rate\"])"
   ]
  },
  {
   "cell_type": "markdown",
   "metadata": {},
   "source": [
    "##### 15. Plot the Math distribution"
   ]
  },
  {
   "cell_type": "code",
   "execution_count": 73,
   "metadata": {
    "collapsed": false
   },
   "outputs": [
    {
     "data": {
      "text/plain": [
       "(array([  1.,   0.,   2.,  10.,  12.,   3.,   9.,   5.,   4.,   5.]),\n",
       " array([ 439. ,  455.4,  471.8,  488.2,  504.6,  521. ,  537.4,  553.8,\n",
       "         570.2,  586.6,  603. ]),\n",
       " <a list of 10 Patch objects>)"
      ]
     },
     "execution_count": 73,
     "metadata": {},
     "output_type": "execute_result"
    },
    {
     "data": {
      "image/png": "[encoded data removed]",
      "text/plain": [
       "<matplotlib.figure.Figure at 0x11720b490>"
      ]
     },
     "metadata": {},
     "output_type": "display_data"
    }
   ],
   "source": [
    "plt.hist(rvmDict[\"math\"])"
   ]
  },
  {
   "cell_type": "markdown",
   "metadata": {},
   "source": [
    "##### 16. Plot the Verbal distribution"
   ]
  },
  {
   "cell_type": "code",
   "execution_count": 74,
   "metadata": {
    "collapsed": false
   },
   "outputs": [
    {
     "data": {
      "text/plain": [
       "(array([ 6.,  8.,  8.,  3.,  3.,  4.,  3.,  7.,  6.,  3.]),\n",
       " array([ 482. ,  493.1,  504.2,  515.3,  526.4,  537.5,  548.6,  559.7,\n",
       "         570.8,  581.9,  593. ]),\n",
       " <a list of 10 Patch objects>)"
      ]
     },
     "execution_count": 74,
     "metadata": {},
     "output_type": "execute_result"
    },
    {
     "data": {
      "image/png": "[encoded data removed]",
      "text/plain": [
       "<matplotlib.figure.Figure at 0x1171bbf90>"
      ]
     },
     "metadata": {},
     "output_type": "display_data"
    }
   ],
   "source": [
    "plt.hist(rvmDict[\"verbal\"])"
   ]
  },
  {
   "cell_type": "markdown",
   "metadata": {},
   "source": [
    "##### 17. What is the typical assumption for data distribution?"
   ]
  },
  {
   "cell_type": "markdown",
   "metadata": {
    "collapsed": false
   },
   "source": [
    "That the data would be normally/gaussian distributed"
   ]
  },
  {
   "cell_type": "markdown",
   "metadata": {},
   "source": [
    "##### 18. Does that distribution hold true for our data?"
   ]
  },
  {
   "cell_type": "markdown",
   "metadata": {
    "collapsed": false
   },
   "source": [
    "No"
   ]
  },
  {
   "cell_type": "markdown",
   "metadata": {},
   "source": [
    "##### 19. Plot some scatterplots. **BONUS**: Use a PyPlot `figure` to present multiple plots at once."
   ]
  },
  {
   "cell_type": "code",
   "execution_count": 91,
   "metadata": {
    "collapsed": false
   },
   "outputs": [
    {
     "data": {
      "image/png": "[encoded data removed]",
      "text/plain": [
       "<matplotlib.figure.Figure at 0x118adf950>"
      ]
     },
     "metadata": {},
     "output_type": "display_data"
    }
   ],
   "source": [
    "plt.scatter(rvmDict[\"rate\"],rvmDict[\"math\"],)\n",
    "plt.xlabel=\"rate\"\n",
    "plt.ylabel=\"math score\"\n"
   ]
  },
  {
   "cell_type": "code",
   "execution_count": 79,
   "metadata": {
    "collapsed": false
   },
   "outputs": [
    {
     "data": {
      "text/plain": [
       "<matplotlib.collections.PathCollection at 0x117cf1a10>"
      ]
     },
     "execution_count": 79,
     "metadata": {},
     "output_type": "execute_result"
    },
    {
     "data": {
      "image/png": "[encoded data removed]",
      "text/plain": [
       "<matplotlib.figure.Figure at 0x1176b4650>"
      ]
     },
     "metadata": {},
     "output_type": "display_data"
    }
   ],
   "source": [
    "plt.scatter(rvmDict[\"rate\"],rvmDict[\"verbal\"])"
   ]
  },
  {
   "cell_type": "code",
   "execution_count": 80,
   "metadata": {
    "collapsed": false
   },
   "outputs": [
    {
     "data": {
      "text/plain": [
       "<matplotlib.collections.PathCollection at 0x117d8d790>"
      ]
     },
     "execution_count": 80,
     "metadata": {},
     "output_type": "execute_result"
    },
    {
     "data": {
      "image/png": "[encoded data removed]",
      "text/plain": [
       "<matplotlib.figure.Figure at 0x117593050>"
      ]
     },
     "metadata": {},
     "output_type": "display_data"
    }
   ],
   "source": [
    "plt.scatter(rvmDict[\"verbal\"],rvmDict[\"math\"])"
   ]
  },
  {
   "cell_type": "markdown",
   "metadata": {},
   "source": [
    "##### 20. Are there any interesting relationships to note?"
   ]
  },
  {
   "cell_type": "markdown",
   "metadata": {
    "collapsed": false
   },
   "source": [
    "As the test rate goes up the scores go down. Also there is a correlation between better verbal and math scores."
   ]
  },
  {
   "cell_type": "markdown",
   "metadata": {},
   "source": [
    "##### 21. Create box plots for each variable. "
   ]
  },
  {
   "cell_type": "code",
   "execution_count": 84,
   "metadata": {
    "collapsed": false
   },
   "outputs": [
    {
     "data": {
      "text/plain": [
       "{'boxes': [<matplotlib.lines.Line2D at 0x11852eb10>],\n",
       " 'caps': [<matplotlib.lines.Line2D at 0x11853da50>,\n",
       "  <matplotlib.lines.Line2D at 0x1185470d0>],\n",
       " 'fliers': [<matplotlib.lines.Line2D at 0x118547d50>],\n",
       " 'means': [],\n",
       " 'medians': [<matplotlib.lines.Line2D at 0x118547710>],\n",
       " 'whiskers': [<matplotlib.lines.Line2D at 0x11852ed10>,\n",
       "  <matplotlib.lines.Line2D at 0x11853d410>]}"
      ]
     },
     "execution_count": 84,
     "metadata": {},
     "output_type": "execute_result"
    },
    {
     "data": {
      "image/png": "[encoded data removed]",
      "text/plain": [
       "<matplotlib.figure.Figure at 0x118157dd0>"
      ]
     },
     "metadata": {},
     "output_type": "display_data"
    }
   ],
   "source": [
    "fig = plt.figure()\n",
    "\n",
    "ax1 = fig.add_subplot(131)\n",
    "ax1.boxplot(rvmDict['rate'])\n",
    "ax2 = fig.add_subplot(132)\n",
    "ax2.boxplot(rvmDict['math'])\n",
    "ax3 = fig.add_subplot(133)\n",
    "ax3.boxplot(rvmDict['verbal'])"
   ]
  },
  {
   "cell_type": "markdown",
   "metadata": {},
   "source": [
    "##### BONUS: Using Tableau, create a heat map for each variable using a map of the US. "
   ]
  },
  {
   "cell_type": "code",
   "execution_count": null,
   "metadata": {
    "collapsed": true
   },
   "outputs": [],
   "source": []
  }
 ],
 "metadata": {
  "anaconda-cloud": {},
  "kernelspec": {
   "display_name": "Python [default]",
   "language": "python",
   "name": "python2"
  },
  "language_info": {
   "codemirror_mode": {
    "name": "ipython",
    "version": 2
   },
   "file_extension": ".py",
   "mimetype": "text/x-python",
   "name": "python",
   "nbconvert_exporter": "python",
   "pygments_lexer": "ipython2",
   "version": "2.7.12"
  }
 },
 "nbformat": 4,
 "nbformat_minor": 0
}
